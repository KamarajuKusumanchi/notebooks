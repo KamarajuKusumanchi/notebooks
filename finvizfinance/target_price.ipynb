{
 "cells": [
  {
   "cell_type": "markdown",
   "id": "1a81a0fa-a079-48c2-a697-f53b476a5ef6",
   "metadata": {},
   "source": [
    "The goal here is to get the \"Target Price\" for multiple companies in one shot from finviz."
   ]
  },
  {
   "cell_type": "markdown",
   "id": "56334a7f-b005-4e83-b40b-80de2d813dd0",
   "metadata": {},
   "source": [
    "Ref:- https://finvizfinance.readthedocs.io/en/latest/screener.html#module-finvizfinance.screener.custom"
   ]
  },
  {
   "cell_type": "code",
   "execution_count": 1,
   "id": "d90a58b2-5b81-49ce-847a-a84f5357a1df",
   "metadata": {
    "tags": []
   },
   "outputs": [
    {
     "name": "stdout",
     "output_type": "stream",
     "text": [
      "[Info] loading page [##############################] 2/2 \r"
     ]
    },
    {
     "data": {
      "text/html": [
       "<div>\n",
       "<style scoped>\n",
       "    .dataframe tbody tr th:only-of-type {\n",
       "        vertical-align: middle;\n",
       "    }\n",
       "\n",
       "    .dataframe tbody tr th {\n",
       "        vertical-align: top;\n",
       "    }\n",
       "\n",
       "    .dataframe thead th {\n",
       "        text-align: right;\n",
       "    }\n",
       "</style>\n",
       "<table border=\"1\" class=\"dataframe\">\n",
       "  <thead>\n",
       "    <tr style=\"text-align: right;\">\n",
       "      <th></th>\n",
       "      <th>Ticker</th>\n",
       "      <th>Company</th>\n",
       "      <th>Sector</th>\n",
       "      <th>Industry</th>\n",
       "      <th>Country</th>\n",
       "      <th>Market Cap</th>\n",
       "      <th>P/E</th>\n",
       "      <th>Price</th>\n",
       "      <th>Change</th>\n",
       "      <th>Volume</th>\n",
       "    </tr>\n",
       "  </thead>\n",
       "  <tbody>\n",
       "    <tr>\n",
       "      <th>0</th>\n",
       "      <td>ALB</td>\n",
       "      <td>Albemarle Corporation</td>\n",
       "      <td>Basic Materials</td>\n",
       "      <td>Specialty Chemicals</td>\n",
       "      <td>USA</td>\n",
       "      <td>2.351000e+10</td>\n",
       "      <td>6.49</td>\n",
       "      <td>202.42</td>\n",
       "      <td>-0.0268</td>\n",
       "      <td>784128.0</td>\n",
       "    </tr>\n",
       "    <tr>\n",
       "      <th>1</th>\n",
       "      <td>APD</td>\n",
       "      <td>Air Products and Chemicals, Inc.</td>\n",
       "      <td>Basic Materials</td>\n",
       "      <td>Specialty Chemicals</td>\n",
       "      <td>USA</td>\n",
       "      <td>6.679000e+10</td>\n",
       "      <td>30.97</td>\n",
       "      <td>301.22</td>\n",
       "      <td>-0.0039</td>\n",
       "      <td>298776.0</td>\n",
       "    </tr>\n",
       "    <tr>\n",
       "      <th>2</th>\n",
       "      <td>CE</td>\n",
       "      <td>Celanese Corporation</td>\n",
       "      <td>Basic Materials</td>\n",
       "      <td>Chemicals</td>\n",
       "      <td>USA</td>\n",
       "      <td>1.351000e+10</td>\n",
       "      <td>9.09</td>\n",
       "      <td>124.30</td>\n",
       "      <td>-0.0085</td>\n",
       "      <td>234184.0</td>\n",
       "    </tr>\n",
       "    <tr>\n",
       "      <th>3</th>\n",
       "      <td>CF</td>\n",
       "      <td>CF Industries Holdings, Inc.</td>\n",
       "      <td>Basic Materials</td>\n",
       "      <td>Agricultural Inputs</td>\n",
       "      <td>USA</td>\n",
       "      <td>1.590000e+10</td>\n",
       "      <td>5.44</td>\n",
       "      <td>81.31</td>\n",
       "      <td>0.0004</td>\n",
       "      <td>778126.0</td>\n",
       "    </tr>\n",
       "    <tr>\n",
       "      <th>4</th>\n",
       "      <td>CTVA</td>\n",
       "      <td>Corteva, Inc.</td>\n",
       "      <td>Basic Materials</td>\n",
       "      <td>Agricultural Inputs</td>\n",
       "      <td>USA</td>\n",
       "      <td>3.959000e+10</td>\n",
       "      <td>33.01</td>\n",
       "      <td>56.25</td>\n",
       "      <td>0.0055</td>\n",
       "      <td>1282717.0</td>\n",
       "    </tr>\n",
       "  </tbody>\n",
       "</table>\n",
       "</div>"
      ],
      "text/plain": [
       "  Ticker                           Company           Sector  \\\n",
       "0    ALB             Albemarle Corporation  Basic Materials   \n",
       "1    APD  Air Products and Chemicals, Inc.  Basic Materials   \n",
       "2     CE              Celanese Corporation  Basic Materials   \n",
       "3     CF      CF Industries Holdings, Inc.  Basic Materials   \n",
       "4   CTVA                     Corteva, Inc.  Basic Materials   \n",
       "\n",
       "              Industry Country    Market Cap    P/E   Price  Change     Volume  \n",
       "0  Specialty Chemicals     USA  2.351000e+10   6.49  202.42 -0.0268   784128.0  \n",
       "1  Specialty Chemicals     USA  6.679000e+10  30.97  301.22 -0.0039   298776.0  \n",
       "2            Chemicals     USA  1.351000e+10   9.09  124.30 -0.0085   234184.0  \n",
       "3  Agricultural Inputs     USA  1.590000e+10   5.44   81.31  0.0004   778126.0  \n",
       "4  Agricultural Inputs     USA  3.959000e+10  33.01   56.25  0.0055  1282717.0  "
      ]
     },
     "execution_count": 1,
     "metadata": {},
     "output_type": "execute_result"
    }
   ],
   "source": [
    "from finvizfinance.screener.custom import Custom\n",
    "\n",
    "foverview = Custom()\n",
    "filters_dict = {'Index':'S&P 500','Sector':'Basic Materials', 'Target Price': 'Any'}\n",
    "foverview.set_filter(filters_dict=filters_dict)\n",
    "df = foverview.screener_view()\n",
    "df.head()"
   ]
  },
  {
   "cell_type": "markdown",
   "id": "cb823567-9b1a-4668-9f19-ac63fb53da97",
   "metadata": {},
   "source": [
    "This does not show the Target Price.\n",
    "\n",
    "The screenver_view() only shows [0,1,2,3,4,5,6,7,65,66,67] columns\n",
    "\n",
    "Use get_columns() to get a list of available columns and to figure out the index corresponding to 'Target Price'."
   ]
  },
  {
   "cell_type": "code",
   "execution_count": 2,
   "id": "216779d0-c419-4e0b-a257-8fc8e27e473b",
   "metadata": {
    "tags": []
   },
   "outputs": [
    {
     "name": "stdout",
     "output_type": "stream",
     "text": [
      "69\n"
     ]
    }
   ],
   "source": [
    "d = foverview.get_columns()    # returns a dictionary with index -> string\n",
    "key_list = list(d.keys())\n",
    "val_list = list(d.values())\n",
    "lookup = 'Target Price'\n",
    "position = val_list.index(lookup)\n",
    "key = key_list[position]\n",
    "print(key)"
   ]
  },
  {
   "cell_type": "markdown",
   "id": "cce2b93f-5500-42f6-897d-25e65093c11f",
   "metadata": {},
   "source": [
    "Add 69 to the list of columns displayed."
   ]
  },
  {
   "cell_type": "code",
   "execution_count": 3,
   "id": "442d012a-a8d2-4dd3-aa36-a9422b09668d",
   "metadata": {
    "tags": []
   },
   "outputs": [
    {
     "name": "stdout",
     "output_type": "stream",
     "text": [
      "[Info] loading page [##############################] 2/2 \r"
     ]
    },
    {
     "data": {
      "text/html": [
       "<div>\n",
       "<style scoped>\n",
       "    .dataframe tbody tr th:only-of-type {\n",
       "        vertical-align: middle;\n",
       "    }\n",
       "\n",
       "    .dataframe tbody tr th {\n",
       "        vertical-align: top;\n",
       "    }\n",
       "\n",
       "    .dataframe thead th {\n",
       "        text-align: right;\n",
       "    }\n",
       "</style>\n",
       "<table border=\"1\" class=\"dataframe\">\n",
       "  <thead>\n",
       "    <tr style=\"text-align: right;\">\n",
       "      <th></th>\n",
       "      <th>Ticker</th>\n",
       "      <th>Company</th>\n",
       "      <th>Sector</th>\n",
       "      <th>Industry</th>\n",
       "      <th>Country</th>\n",
       "      <th>Market Cap</th>\n",
       "      <th>P/E</th>\n",
       "      <th>Price</th>\n",
       "      <th>Change</th>\n",
       "      <th>Volume</th>\n",
       "      <th>Target Price</th>\n",
       "    </tr>\n",
       "  </thead>\n",
       "  <tbody>\n",
       "    <tr>\n",
       "      <th>0</th>\n",
       "      <td>ALB</td>\n",
       "      <td>Albemarle Corporation</td>\n",
       "      <td>Basic Materials</td>\n",
       "      <td>Specialty Chemicals</td>\n",
       "      <td>USA</td>\n",
       "      <td>2.351000e+10</td>\n",
       "      <td>6.49</td>\n",
       "      <td>202.42</td>\n",
       "      <td>-0.0268</td>\n",
       "      <td>784128.0</td>\n",
       "      <td>266.58</td>\n",
       "    </tr>\n",
       "    <tr>\n",
       "      <th>1</th>\n",
       "      <td>APD</td>\n",
       "      <td>Air Products and Chemicals, Inc.</td>\n",
       "      <td>Basic Materials</td>\n",
       "      <td>Specialty Chemicals</td>\n",
       "      <td>USA</td>\n",
       "      <td>6.679000e+10</td>\n",
       "      <td>30.97</td>\n",
       "      <td>301.22</td>\n",
       "      <td>-0.0039</td>\n",
       "      <td>298776.0</td>\n",
       "      <td>329.14</td>\n",
       "    </tr>\n",
       "    <tr>\n",
       "      <th>2</th>\n",
       "      <td>CE</td>\n",
       "      <td>Celanese Corporation</td>\n",
       "      <td>Basic Materials</td>\n",
       "      <td>Chemicals</td>\n",
       "      <td>USA</td>\n",
       "      <td>1.351000e+10</td>\n",
       "      <td>9.09</td>\n",
       "      <td>124.30</td>\n",
       "      <td>-0.0085</td>\n",
       "      <td>234184.0</td>\n",
       "      <td>124.87</td>\n",
       "    </tr>\n",
       "    <tr>\n",
       "      <th>3</th>\n",
       "      <td>CF</td>\n",
       "      <td>CF Industries Holdings, Inc.</td>\n",
       "      <td>Basic Materials</td>\n",
       "      <td>Agricultural Inputs</td>\n",
       "      <td>USA</td>\n",
       "      <td>1.590000e+10</td>\n",
       "      <td>5.44</td>\n",
       "      <td>81.31</td>\n",
       "      <td>0.0004</td>\n",
       "      <td>778126.0</td>\n",
       "      <td>84.37</td>\n",
       "    </tr>\n",
       "    <tr>\n",
       "      <th>4</th>\n",
       "      <td>CTVA</td>\n",
       "      <td>Corteva, Inc.</td>\n",
       "      <td>Basic Materials</td>\n",
       "      <td>Agricultural Inputs</td>\n",
       "      <td>USA</td>\n",
       "      <td>3.959000e+10</td>\n",
       "      <td>33.01</td>\n",
       "      <td>56.25</td>\n",
       "      <td>0.0055</td>\n",
       "      <td>1282717.0</td>\n",
       "      <td>69.74</td>\n",
       "    </tr>\n",
       "  </tbody>\n",
       "</table>\n",
       "</div>"
      ],
      "text/plain": [
       "  Ticker                           Company           Sector  \\\n",
       "0    ALB             Albemarle Corporation  Basic Materials   \n",
       "1    APD  Air Products and Chemicals, Inc.  Basic Materials   \n",
       "2     CE              Celanese Corporation  Basic Materials   \n",
       "3     CF      CF Industries Holdings, Inc.  Basic Materials   \n",
       "4   CTVA                     Corteva, Inc.  Basic Materials   \n",
       "\n",
       "              Industry Country    Market Cap    P/E   Price  Change  \\\n",
       "0  Specialty Chemicals     USA  2.351000e+10   6.49  202.42 -0.0268   \n",
       "1  Specialty Chemicals     USA  6.679000e+10  30.97  301.22 -0.0039   \n",
       "2            Chemicals     USA  1.351000e+10   9.09  124.30 -0.0085   \n",
       "3  Agricultural Inputs     USA  1.590000e+10   5.44   81.31  0.0004   \n",
       "4  Agricultural Inputs     USA  3.959000e+10  33.01   56.25  0.0055   \n",
       "\n",
       "      Volume  Target Price  \n",
       "0   784128.0        266.58  \n",
       "1   298776.0        329.14  \n",
       "2   234184.0        124.87  \n",
       "3   778126.0         84.37  \n",
       "4  1282717.0         69.74  "
      ]
     },
     "execution_count": 3,
     "metadata": {},
     "output_type": "execute_result"
    }
   ],
   "source": [
    "from finvizfinance.screener.custom import Custom\n",
    "\n",
    "foverview = Custom()\n",
    "filters_dict = {'Index':'S&P 500','Sector':'Basic Materials', 'Target Price': 'Any'}\n",
    "foverview.set_filter(filters_dict=filters_dict)\n",
    "default_cols = [0, 1, 2, 3, 4, 5, 6, 7, 65, 66, 67]\n",
    "default_cols.append(69)\n",
    "df = foverview.screener_view(columns=default_cols)\n",
    "df.head()"
   ]
  },
  {
   "cell_type": "code",
   "execution_count": null,
   "id": "43d6b270-9a33-44b6-97fe-f3c8029b76af",
   "metadata": {},
   "outputs": [],
   "source": []
  }
 ],
 "metadata": {
  "kernelspec": {
   "display_name": "Python 3 (ipykernel)",
   "language": "python",
   "name": "python3"
  },
  "language_info": {
   "codemirror_mode": {
    "name": "ipython",
    "version": 3
   },
   "file_extension": ".py",
   "mimetype": "text/x-python",
   "name": "python",
   "nbconvert_exporter": "python",
   "pygments_lexer": "ipython3",
   "version": "3.11.4"
  }
 },
 "nbformat": 4,
 "nbformat_minor": 5
}
