{
 "cells": [
  {
   "cell_type": "markdown",
   "id": "1a81a0fa-a079-48c2-a697-f53b476a5ef6",
   "metadata": {},
   "source": [
    "The goal here is to get the \"Target Price\" for multiple companies in one shot from finviz."
   ]
  },
  {
   "cell_type": "code",
   "execution_count": 1,
   "id": "d90a58b2-5b81-49ce-847a-a84f5357a1df",
   "metadata": {
    "tags": []
   },
   "outputs": [
    {
     "name": "stdout",
     "output_type": "stream",
     "text": [
      "[Info] loading page [##############################] 2/2 \r"
     ]
    },
    {
     "data": {
      "text/html": [
       "<div>\n",
       "<style scoped>\n",
       "    .dataframe tbody tr th:only-of-type {\n",
       "        vertical-align: middle;\n",
       "    }\n",
       "\n",
       "    .dataframe tbody tr th {\n",
       "        vertical-align: top;\n",
       "    }\n",
       "\n",
       "    .dataframe thead th {\n",
       "        text-align: right;\n",
       "    }\n",
       "</style>\n",
       "<table border=\"1\" class=\"dataframe\">\n",
       "  <thead>\n",
       "    <tr style=\"text-align: right;\">\n",
       "      <th></th>\n",
       "      <th>Ticker</th>\n",
       "      <th>Company</th>\n",
       "      <th>Sector</th>\n",
       "      <th>Industry</th>\n",
       "      <th>Country</th>\n",
       "      <th>Market Cap</th>\n",
       "      <th>P/E</th>\n",
       "      <th>Price</th>\n",
       "      <th>Change</th>\n",
       "      <th>Volume</th>\n",
       "    </tr>\n",
       "  </thead>\n",
       "  <tbody>\n",
       "    <tr>\n",
       "      <th>0</th>\n",
       "      <td>ALB</td>\n",
       "      <td>Albemarle Corporation</td>\n",
       "      <td>Basic Materials</td>\n",
       "      <td>Specialty Chemicals</td>\n",
       "      <td>USA</td>\n",
       "      <td>2.355000e+10</td>\n",
       "      <td>6.50</td>\n",
       "      <td>202.77</td>\n",
       "      <td>-0.0251</td>\n",
       "      <td>811072.0</td>\n",
       "    </tr>\n",
       "    <tr>\n",
       "      <th>1</th>\n",
       "      <td>APD</td>\n",
       "      <td>Air Products and Chemicals, Inc.</td>\n",
       "      <td>Basic Materials</td>\n",
       "      <td>Specialty Chemicals</td>\n",
       "      <td>USA</td>\n",
       "      <td>6.676000e+10</td>\n",
       "      <td>30.96</td>\n",
       "      <td>301.07</td>\n",
       "      <td>-0.0044</td>\n",
       "      <td>307772.0</td>\n",
       "    </tr>\n",
       "    <tr>\n",
       "      <th>2</th>\n",
       "      <td>CE</td>\n",
       "      <td>Celanese Corporation</td>\n",
       "      <td>Basic Materials</td>\n",
       "      <td>Chemicals</td>\n",
       "      <td>USA</td>\n",
       "      <td>1.351000e+10</td>\n",
       "      <td>9.09</td>\n",
       "      <td>124.30</td>\n",
       "      <td>-0.0085</td>\n",
       "      <td>237702.0</td>\n",
       "    </tr>\n",
       "    <tr>\n",
       "      <th>3</th>\n",
       "      <td>CF</td>\n",
       "      <td>CF Industries Holdings, Inc.</td>\n",
       "      <td>Basic Materials</td>\n",
       "      <td>Agricultural Inputs</td>\n",
       "      <td>USA</td>\n",
       "      <td>1.590000e+10</td>\n",
       "      <td>5.43</td>\n",
       "      <td>81.30</td>\n",
       "      <td>0.0002</td>\n",
       "      <td>807484.0</td>\n",
       "    </tr>\n",
       "    <tr>\n",
       "      <th>4</th>\n",
       "      <td>CTVA</td>\n",
       "      <td>Corteva, Inc.</td>\n",
       "      <td>Basic Materials</td>\n",
       "      <td>Agricultural Inputs</td>\n",
       "      <td>USA</td>\n",
       "      <td>3.954000e+10</td>\n",
       "      <td>32.96</td>\n",
       "      <td>56.17</td>\n",
       "      <td>0.0041</td>\n",
       "      <td>1319294.0</td>\n",
       "    </tr>\n",
       "  </tbody>\n",
       "</table>\n",
       "</div>"
      ],
      "text/plain": [
       "  Ticker                           Company           Sector  \\\n",
       "0    ALB             Albemarle Corporation  Basic Materials   \n",
       "1    APD  Air Products and Chemicals, Inc.  Basic Materials   \n",
       "2     CE              Celanese Corporation  Basic Materials   \n",
       "3     CF      CF Industries Holdings, Inc.  Basic Materials   \n",
       "4   CTVA                     Corteva, Inc.  Basic Materials   \n",
       "\n",
       "              Industry Country    Market Cap    P/E   Price  Change     Volume  \n",
       "0  Specialty Chemicals     USA  2.355000e+10   6.50  202.77 -0.0251   811072.0  \n",
       "1  Specialty Chemicals     USA  6.676000e+10  30.96  301.07 -0.0044   307772.0  \n",
       "2            Chemicals     USA  1.351000e+10   9.09  124.30 -0.0085   237702.0  \n",
       "3  Agricultural Inputs     USA  1.590000e+10   5.43   81.30  0.0002   807484.0  \n",
       "4  Agricultural Inputs     USA  3.954000e+10  32.96   56.17  0.0041  1319294.0  "
      ]
     },
     "execution_count": 1,
     "metadata": {},
     "output_type": "execute_result"
    }
   ],
   "source": [
    "from finvizfinance.screener.custom import Custom\n",
    "\n",
    "foverview = Custom()\n",
    "filters_dict = {'Index':'S&P 500','Sector':'Basic Materials', 'Target Price': 'Any'}\n",
    "foverview.set_filter(filters_dict=filters_dict)\n",
    "df = foverview.screener_view()\n",
    "df.head()"
   ]
  },
  {
   "cell_type": "markdown",
   "id": "cb823567-9b1a-4668-9f19-ac63fb53da97",
   "metadata": {},
   "source": [
    "This does not show the Target Price.\n",
    "\n",
    "The screenver_view() only shows [0,1,2,3,4,5,6,7,65,66,67] columns\n",
    "\n",
    "Use get_columns() to get a list of available columns and to figure out the index corresponding to 'Target Price'."
   ]
  },
  {
   "cell_type": "code",
   "execution_count": 2,
   "id": "216779d0-c419-4e0b-a257-8fc8e27e473b",
   "metadata": {
    "tags": []
   },
   "outputs": [
    {
     "name": "stdout",
     "output_type": "stream",
     "text": [
      "69\n"
     ]
    }
   ],
   "source": [
    "d = foverview.get_columns()    # returns a dictionary with index -> string\n",
    "key_list = list(d.keys())\n",
    "val_list = list(d.values())\n",
    "lookup = 'Target Price'\n",
    "position = val_list.index(lookup)\n",
    "key = key_list[position]\n",
    "print(key)"
   ]
  },
  {
   "cell_type": "markdown",
   "id": "cce2b93f-5500-42f6-897d-25e65093c11f",
   "metadata": {},
   "source": [
    "Add 69 to the list of columns displayed."
   ]
  },
  {
   "cell_type": "code",
   "execution_count": 3,
   "id": "442d012a-a8d2-4dd3-aa36-a9422b09668d",
   "metadata": {
    "tags": []
   },
   "outputs": [
    {
     "name": "stdout",
     "output_type": "stream",
     "text": [
      "[Info] loading page [##############################] 2/2 \r"
     ]
    },
    {
     "data": {
      "text/html": [
       "<div>\n",
       "<style scoped>\n",
       "    .dataframe tbody tr th:only-of-type {\n",
       "        vertical-align: middle;\n",
       "    }\n",
       "\n",
       "    .dataframe tbody tr th {\n",
       "        vertical-align: top;\n",
       "    }\n",
       "\n",
       "    .dataframe thead th {\n",
       "        text-align: right;\n",
       "    }\n",
       "</style>\n",
       "<table border=\"1\" class=\"dataframe\">\n",
       "  <thead>\n",
       "    <tr style=\"text-align: right;\">\n",
       "      <th></th>\n",
       "      <th>Ticker</th>\n",
       "      <th>Company</th>\n",
       "      <th>Sector</th>\n",
       "      <th>Industry</th>\n",
       "      <th>Country</th>\n",
       "      <th>Market Cap</th>\n",
       "      <th>P/E</th>\n",
       "      <th>Price</th>\n",
       "      <th>Change</th>\n",
       "      <th>Volume</th>\n",
       "      <th>Target Price</th>\n",
       "    </tr>\n",
       "  </thead>\n",
       "  <tbody>\n",
       "    <tr>\n",
       "      <th>0</th>\n",
       "      <td>ALB</td>\n",
       "      <td>Albemarle Corporation</td>\n",
       "      <td>Basic Materials</td>\n",
       "      <td>Specialty Chemicals</td>\n",
       "      <td>USA</td>\n",
       "      <td>2.355000e+10</td>\n",
       "      <td>6.50</td>\n",
       "      <td>202.77</td>\n",
       "      <td>-0.0251</td>\n",
       "      <td>811072.0</td>\n",
       "      <td>266.58</td>\n",
       "    </tr>\n",
       "    <tr>\n",
       "      <th>1</th>\n",
       "      <td>APD</td>\n",
       "      <td>Air Products and Chemicals, Inc.</td>\n",
       "      <td>Basic Materials</td>\n",
       "      <td>Specialty Chemicals</td>\n",
       "      <td>USA</td>\n",
       "      <td>6.676000e+10</td>\n",
       "      <td>30.96</td>\n",
       "      <td>301.07</td>\n",
       "      <td>-0.0044</td>\n",
       "      <td>307772.0</td>\n",
       "      <td>329.14</td>\n",
       "    </tr>\n",
       "    <tr>\n",
       "      <th>2</th>\n",
       "      <td>CE</td>\n",
       "      <td>Celanese Corporation</td>\n",
       "      <td>Basic Materials</td>\n",
       "      <td>Chemicals</td>\n",
       "      <td>USA</td>\n",
       "      <td>1.351000e+10</td>\n",
       "      <td>9.09</td>\n",
       "      <td>124.30</td>\n",
       "      <td>-0.0085</td>\n",
       "      <td>237702.0</td>\n",
       "      <td>124.87</td>\n",
       "    </tr>\n",
       "    <tr>\n",
       "      <th>3</th>\n",
       "      <td>CF</td>\n",
       "      <td>CF Industries Holdings, Inc.</td>\n",
       "      <td>Basic Materials</td>\n",
       "      <td>Agricultural Inputs</td>\n",
       "      <td>USA</td>\n",
       "      <td>1.590000e+10</td>\n",
       "      <td>5.43</td>\n",
       "      <td>81.30</td>\n",
       "      <td>0.0002</td>\n",
       "      <td>807484.0</td>\n",
       "      <td>84.37</td>\n",
       "    </tr>\n",
       "    <tr>\n",
       "      <th>4</th>\n",
       "      <td>CTVA</td>\n",
       "      <td>Corteva, Inc.</td>\n",
       "      <td>Basic Materials</td>\n",
       "      <td>Agricultural Inputs</td>\n",
       "      <td>USA</td>\n",
       "      <td>3.954000e+10</td>\n",
       "      <td>32.96</td>\n",
       "      <td>56.17</td>\n",
       "      <td>0.0041</td>\n",
       "      <td>1319294.0</td>\n",
       "      <td>69.74</td>\n",
       "    </tr>\n",
       "  </tbody>\n",
       "</table>\n",
       "</div>"
      ],
      "text/plain": [
       "  Ticker                           Company           Sector  \\\n",
       "0    ALB             Albemarle Corporation  Basic Materials   \n",
       "1    APD  Air Products and Chemicals, Inc.  Basic Materials   \n",
       "2     CE              Celanese Corporation  Basic Materials   \n",
       "3     CF      CF Industries Holdings, Inc.  Basic Materials   \n",
       "4   CTVA                     Corteva, Inc.  Basic Materials   \n",
       "\n",
       "              Industry Country    Market Cap    P/E   Price  Change  \\\n",
       "0  Specialty Chemicals     USA  2.355000e+10   6.50  202.77 -0.0251   \n",
       "1  Specialty Chemicals     USA  6.676000e+10  30.96  301.07 -0.0044   \n",
       "2            Chemicals     USA  1.351000e+10   9.09  124.30 -0.0085   \n",
       "3  Agricultural Inputs     USA  1.590000e+10   5.43   81.30  0.0002   \n",
       "4  Agricultural Inputs     USA  3.954000e+10  32.96   56.17  0.0041   \n",
       "\n",
       "      Volume  Target Price  \n",
       "0   811072.0        266.58  \n",
       "1   307772.0        329.14  \n",
       "2   237702.0        124.87  \n",
       "3   807484.0         84.37  \n",
       "4  1319294.0         69.74  "
      ]
     },
     "execution_count": 3,
     "metadata": {},
     "output_type": "execute_result"
    }
   ],
   "source": [
    "from finvizfinance.screener.custom import Custom\n",
    "\n",
    "foverview = Custom()\n",
    "filters_dict = {'Index':'S&P 500','Sector':'Basic Materials', 'Target Price': 'Any'}\n",
    "foverview.set_filter(filters_dict=filters_dict)\n",
    "default_cols = [0, 1, 2, 3, 4, 5, 6, 7, 65, 66, 67]\n",
    "default_cols.append(69)\n",
    "df = foverview.screener_view(columns=default_cols)\n",
    "df.head()"
   ]
  },
  {
   "cell_type": "markdown",
   "id": "9cab0f27-4a3b-4fde-8a26-b73ddaf17e58",
   "metadata": {},
   "source": [
    "Ref:-\n",
    "  * https://finvizfinance.readthedocs.io/en/latest/screener.html#module-finvizfinance.screener.custom - API of the Custom class.\n",
    "  * https://github.com/lit26/finvizfinance/blob/master/example/example.ipynb - This shows that 'Target Price' is available from finvizfinance API. But the example only demos for a single stock.\n",
    "  * https://github.com/lit26/finvizfinance/blob/master/finvizfinance/screener/overview.py - Has the definition of the Overview class.\n",
    "  \n",
    "tags | finvizfinance multiple tickers, finvizfinance screener_view show all columns"
   ]
  },
  {
   "cell_type": "code",
   "execution_count": null,
   "id": "df72f912-ddf2-4875-98fd-3a07cd333f37",
   "metadata": {},
   "outputs": [],
   "source": []
  }
 ],
 "metadata": {
  "kernelspec": {
   "display_name": "Python 3 (ipykernel)",
   "language": "python",
   "name": "python3"
  },
  "language_info": {
   "codemirror_mode": {
    "name": "ipython",
    "version": 3
   },
   "file_extension": ".py",
   "mimetype": "text/x-python",
   "name": "python",
   "nbconvert_exporter": "python",
   "pygments_lexer": "ipython3",
   "version": "3.11.4"
  }
 },
 "nbformat": 4,
 "nbformat_minor": 5
}
