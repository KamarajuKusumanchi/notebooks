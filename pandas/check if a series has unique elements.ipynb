{
 "cells": [
  {
   "cell_type": "markdown",
   "id": "3efe60d9-080b-449e-9a56-265e88afb104",
   "metadata": {},
   "source": [
    "You can use is_unique to check if all elements in a Series are unique or not.\n",
    "By default, it treats np.nan as any other value. So if there are multiple np.nan s, it will return false.\n",
    "If this not desired, run dropna() first and then do is_unique."
   ]
  },
  {
   "cell_type": "code",
   "execution_count": 1,
   "id": "2e4cabfd-7518-4b36-ad08-961ae9246986",
   "metadata": {
    "tags": []
   },
   "outputs": [],
   "source": [
    "import pandas as pd"
   ]
  },
  {
   "cell_type": "code",
   "execution_count": 2,
   "id": "a937a739-70ec-42f4-8b15-e7176c507163",
   "metadata": {
    "tags": []
   },
   "outputs": [
    {
     "data": {
      "text/plain": [
       "True"
      ]
     },
     "execution_count": 2,
     "metadata": {},
     "output_type": "execute_result"
    }
   ],
   "source": [
    "pd.Series([1, 2, 3]).is_unique"
   ]
  },
  {
   "cell_type": "code",
   "execution_count": 3,
   "id": "e9022675-cfec-4e2b-b743-1dfe59328e04",
   "metadata": {
    "tags": []
   },
   "outputs": [
    {
     "data": {
      "text/plain": [
       "False"
      ]
     },
     "execution_count": 3,
     "metadata": {},
     "output_type": "execute_result"
    }
   ],
   "source": [
    "pd.Series([1, 2, 2]).is_unique"
   ]
  },
  {
   "cell_type": "code",
   "execution_count": 4,
   "id": "5e5887fa-b10c-433d-94a2-8008b5ab3f71",
   "metadata": {
    "tags": []
   },
   "outputs": [
    {
     "data": {
      "text/plain": [
       "False"
      ]
     },
     "execution_count": 4,
     "metadata": {},
     "output_type": "execute_result"
    }
   ],
   "source": [
    "import numpy as np\n",
    "pd.Series([1, 2, 3, np.nan, np.nan]).is_unique"
   ]
  },
  {
   "cell_type": "code",
   "execution_count": 5,
   "id": "f44f0d6c-bfa3-4eca-bed0-bf3034759e2a",
   "metadata": {
    "tags": []
   },
   "outputs": [
    {
     "data": {
      "text/plain": [
       "True"
      ]
     },
     "execution_count": 5,
     "metadata": {},
     "output_type": "execute_result"
    }
   ],
   "source": [
    "pd.Series([1, 2, 3, np.nan, np.nan]).dropna().is_unique"
   ]
  },
  {
   "cell_type": "code",
   "execution_count": 6,
   "id": "357df968-20e2-4eab-9fb8-5a000f2f5628",
   "metadata": {
    "tags": []
   },
   "outputs": [
    {
     "data": {
      "text/plain": [
       "False"
      ]
     },
     "execution_count": 6,
     "metadata": {},
     "output_type": "execute_result"
    }
   ],
   "source": [
    "pd.Series([1, 2, 2, np.nan, np.nan]).is_unique"
   ]
  },
  {
   "cell_type": "code",
   "execution_count": 7,
   "id": "cba310bb-a706-436b-bf0c-0578fb1ed6cd",
   "metadata": {
    "tags": []
   },
   "outputs": [
    {
     "data": {
      "text/plain": [
       "False"
      ]
     },
     "execution_count": 7,
     "metadata": {},
     "output_type": "execute_result"
    }
   ],
   "source": [
    "pd.Series([1, 2, 2, np.nan, np.nan]).dropna().is_unique"
   ]
  },
  {
   "cell_type": "code",
   "execution_count": null,
   "id": "ef572908-95e0-4d4f-b8d8-c45bcf928d21",
   "metadata": {},
   "outputs": [],
   "source": []
  }
 ],
 "metadata": {
  "jupytext": {
   "formats": "ipynb,auto:light"
  },
  "kernelspec": {
   "display_name": "Python 3 (ipykernel)",
   "language": "python",
   "name": "python3"
  },
  "language_info": {
   "codemirror_mode": {
    "name": "ipython",
    "version": 3
   },
   "file_extension": ".py",
   "mimetype": "text/x-python",
   "name": "python",
   "nbconvert_exporter": "python",
   "pygments_lexer": "ipython3",
   "version": "3.11.4"
  }
 },
 "nbformat": 4,
 "nbformat_minor": 5
}
