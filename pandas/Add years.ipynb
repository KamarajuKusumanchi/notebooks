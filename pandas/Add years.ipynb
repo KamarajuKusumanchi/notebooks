{
 "cells": [
  {
   "cell_type": "code",
   "execution_count": 1,
   "metadata": {},
   "outputs": [
    {
     "name": "stdout",
     "output_type": "stream",
     "text": [
      "2016-03-01 00:00:00\n",
      "2016-02-28 00:00:00\n",
      "2015-03-01 00:00:00\n"
     ]
    }
   ],
   "source": [
    "from datetime import datetime, timedelta\n",
    "from dateutil.relativedelta import relativedelta\n",
    "\n",
    "cur_date = datetime.strptime('20160301', '%Y%m%d')\n",
    "two_days_ago = cur_date + relativedelta(days=-2)\n",
    "one_year_ago = cur_date + relativedelta(years=-1)\n",
    "\n",
    "print(cur_date)\n",
    "print(two_days_ago)\n",
    "print(one_year_ago)"
   ]
  },
  {
   "cell_type": "code",
   "execution_count": 2,
   "metadata": {},
   "outputs": [
    {
     "name": "stdout",
     "output_type": "stream",
     "text": [
      "20160301\n",
      "20150301\n"
     ]
    }
   ],
   "source": [
    "from datetime import datetime, timedelta\n",
    "from dateutil.relativedelta import relativedelta\n",
    "\n",
    "def add_years(cur_date, years, date_fmt='%Y%m%d'):\n",
    "    dt = datetime.strptime(cur_date, date_fmt)\n",
    "    new_date = dt + relativedelta(years=years)\n",
    "    return new_date.strftime(date_fmt)\n",
    "\n",
    "cur_date = '20160301'\n",
    "one_year_ago = add_years(cur_date, -1)\n",
    "print(cur_date)\n",
    "print(one_year_ago)"
   ]
  }
 ],
 "metadata": {
  "kernelspec": {
   "display_name": "Python 3",
   "language": "python",
   "name": "python3"
  },
  "language_info": {
   "codemirror_mode": {
    "name": "ipython",
    "version": 3
   },
   "file_extension": ".py",
   "mimetype": "text/x-python",
   "name": "python",
   "nbconvert_exporter": "python",
   "pygments_lexer": "ipython3",
   "version": "3.6.8"
  }
 },
 "nbformat": 4,
 "nbformat_minor": 2
}
