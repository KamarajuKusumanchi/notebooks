{
 "cells": [
  {
   "cell_type": "markdown",
   "metadata": {},
   "source": [
    "The idea here is\n",
    "* to split a column into two based on whether the values are positive or negative\n",
    "* use a default of 0 when the condition is not true (i.e. all negatives in the positive column and all positives in the negative column are set to 0"
   ]
  },
  {
   "cell_type": "code",
   "execution_count": 8,
   "metadata": {},
   "outputs": [
    {
     "name": "stdout",
     "output_type": "stream",
     "text": [
      "          C\n",
      "0  0.402376\n",
      "1  0.605016\n",
      "2 -1.318159\n",
      "3  0.792184\n",
      "4 -1.151157\n",
      "5 -1.103932\n",
      "6 -0.789356\n",
      "7 -1.427881\n"
     ]
    }
   ],
   "source": [
    "import numpy as np\n",
    "import pandas as pd\n",
    "\n",
    "df = pd.DataFrame({'C' : np.random.randn(8)})\n",
    "print(df)"
   ]
  },
  {
   "cell_type": "code",
   "execution_count": 9,
   "metadata": {},
   "outputs": [
    {
     "name": "stdout",
     "output_type": "stream",
     "text": [
      "          C     C_pos     C_neg\n",
      "0  0.402376  0.402376  0.000000\n",
      "1  0.605016  0.605016  0.000000\n",
      "2 -1.318159  0.000000 -1.318159\n",
      "3  0.792184  0.792184  0.000000\n",
      "4 -1.151157  0.000000 -1.151157\n",
      "5 -1.103932  0.000000 -1.103932\n",
      "6 -0.789356  0.000000 -0.789356\n",
      "7 -1.427881  0.000000 -1.427881\n"
     ]
    }
   ],
   "source": [
    "df['C_pos'] = df['C'].where(df['C']>0, other=0)\n",
    "df['C_neg'] = df['C'].where(df['C']<0, other=0)\n",
    "print(df)"
   ]
  },
  {
   "cell_type": "markdown",
   "metadata": {},
   "source": [
    "Sample use case: Split a market value column into longs and shorts.\n",
    "\n",
    "Ref:- \n",
    "* https://pandas.pydata.org/pandas-docs/stable/generated/pandas.DataFrame.where.html\n",
    "* https://pandas.pydata.org/pandas-docs/stable/generated/pandas.DataFrame.mask.html"
   ]
  }
 ],
 "metadata": {
  "kernelspec": {
   "display_name": "Python 3",
   "language": "python",
   "name": "python3"
  },
  "language_info": {
   "codemirror_mode": {
    "name": "ipython",
    "version": 3
   },
   "file_extension": ".py",
   "mimetype": "text/x-python",
   "name": "python",
   "nbconvert_exporter": "python",
   "pygments_lexer": "ipython3",
   "version": "3.6.6"
  }
 },
 "nbformat": 4,
 "nbformat_minor": 2
}
