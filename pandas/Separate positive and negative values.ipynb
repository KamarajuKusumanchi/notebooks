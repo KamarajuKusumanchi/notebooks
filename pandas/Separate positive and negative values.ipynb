{
 "cells": [
  {
   "cell_type": "markdown",
   "metadata": {},
   "source": [
    "The idea here is\n",
    "* to split a column into two based on whether the values are positive or negative\n",
    "* use a default of 0 when the condition is not true (i.e. all negatives in the positive column and all positives in the negative column are set to 0"
   ]
  },
  {
   "cell_type": "code",
   "execution_count": 1,
   "metadata": {},
   "outputs": [
    {
     "name": "stdout",
     "output_type": "stream",
     "text": [
      "          C\n",
      "0 -0.433741\n",
      "1  1.557126\n",
      "2  0.823763\n",
      "3  0.307580\n",
      "4 -0.154785\n",
      "5 -0.660940\n",
      "6 -0.934424\n",
      "7 -0.410602\n"
     ]
    }
   ],
   "source": [
    "import numpy as np\n",
    "import pandas as pd\n",
    "\n",
    "df = pd.DataFrame({'C' : np.random.randn(8)})\n",
    "print(df)"
   ]
  },
  {
   "cell_type": "code",
   "execution_count": 2,
   "metadata": {},
   "outputs": [
    {
     "name": "stdout",
     "output_type": "stream",
     "text": [
      "          C     C_pos     C_neg\n",
      "0 -0.433741  0.000000 -0.433741\n",
      "1  1.557126  1.557126  0.000000\n",
      "2  0.823763  0.823763  0.000000\n",
      "3  0.307580  0.307580  0.000000\n",
      "4 -0.154785  0.000000 -0.154785\n",
      "5 -0.660940  0.000000 -0.660940\n",
      "6 -0.934424  0.000000 -0.934424\n",
      "7 -0.410602  0.000000 -0.410602\n"
     ]
    }
   ],
   "source": [
    "df['C_pos'] = df['C'].where(df['C']>0, other=0)\n",
    "df['C_neg'] = df['C'].where(df['C']<0, other=0)\n",
    "print(df)"
   ]
  },
  {
   "cell_type": "markdown",
   "metadata": {},
   "source": [
    "Sample use case: Split a market value column into longs and shorts.\n",
    "\n",
    "Ref:- \n",
    "* https://pandas.pydata.org/pandas-docs/stable/generated/pandas.DataFrame.where.html\n",
    "* https://pandas.pydata.org/pandas-docs/stable/generated/pandas.DataFrame.mask.html"
   ]
  }
 ],
 "metadata": {
  "kernelspec": {
   "display_name": "Python 3",
   "language": "python",
   "name": "python3"
  },
  "language_info": {
   "codemirror_mode": {
    "name": "ipython",
    "version": 3
   },
   "file_extension": ".py",
   "mimetype": "text/x-python",
   "name": "python",
   "nbconvert_exporter": "python",
   "pygments_lexer": "ipython3",
   "version": "3.6.6"
  }
 },
 "nbformat": 4,
 "nbformat_minor": 2
}
