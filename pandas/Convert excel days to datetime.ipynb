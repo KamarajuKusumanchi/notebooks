{
 "cells": [
  {
   "cell_type": "code",
   "execution_count": 1,
   "metadata": {},
   "outputs": [],
   "source": [
    "import pandas as pd\n",
    "def excel_days_to_datetime(days):\n",
    "    epoch = pd.to_datetime('1899-12-30')\n",
    "    delta = pd.to_timedelta(days, 'D')\n",
    "    return epoch + delta"
   ]
  },
  {
   "cell_type": "code",
   "execution_count": 2,
   "metadata": {},
   "outputs": [
    {
     "name": "stdout",
     "output_type": "stream",
     "text": [
      "      id   days\n",
      "0  alpha  47347\n",
      "1   beta  45552\n",
      "2  gamma  43725\n",
      "3  delta  43694\n"
     ]
    }
   ],
   "source": [
    "df = pd.DataFrame({'id':['alpha', 'beta', 'gamma', 'delta'],\n",
    "                   'days': [47347, 45552, 43725, 43694]})\n",
    "print(df)"
   ]
  },
  {
   "cell_type": "code",
   "execution_count": 3,
   "metadata": {},
   "outputs": [
    {
     "name": "stdout",
     "output_type": "stream",
     "text": [
      "      id   days   datetime\n",
      "0  alpha  47347 2029-08-17\n",
      "1   beta  45552 2024-09-17\n",
      "2  gamma  43725 2019-09-17\n",
      "3  delta  43694 2019-08-17\n"
     ]
    }
   ],
   "source": [
    "df['datetime'] = excel_days_to_datetime(df['days'])\n",
    "print(df)"
   ]
  },
  {
   "cell_type": "code",
   "execution_count": 4,
   "metadata": {},
   "outputs": [
    {
     "name": "stdout",
     "output_type": "stream",
     "text": [
      "2019-08-17 00:00:00\n"
     ]
    }
   ],
   "source": [
    "print(excel_days_to_datetime(43694))"
   ]
  },
  {
   "cell_type": "code",
   "execution_count": 5,
   "metadata": {},
   "outputs": [
    {
     "name": "stdout",
     "output_type": "stream",
     "text": [
      "2019-08-17 00:00:00\n"
     ]
    }
   ],
   "source": [
    "from datetime import datetime, timedelta\n",
    "\n",
    "def excel_days_to_datetime_nopd(days):\n",
    "    epoch = datetime(1899, 12, 30)\n",
    "    delta = timedelta(days)\n",
    "    return epoch + delta\n",
    "\n",
    "print(excel_days_to_datetime_nopd(43694))"
   ]
  }
 ],
 "metadata": {
  "kernelspec": {
   "display_name": "Python 3",
   "language": "python",
   "name": "python3"
  },
  "language_info": {
   "codemirror_mode": {
    "name": "ipython",
    "version": 3
   },
   "file_extension": ".py",
   "mimetype": "text/x-python",
   "name": "python",
   "nbconvert_exporter": "python",
   "pygments_lexer": "ipython3",
   "version": "3.6.6"
  }
 },
 "nbformat": 4,
 "nbformat_minor": 2
}
