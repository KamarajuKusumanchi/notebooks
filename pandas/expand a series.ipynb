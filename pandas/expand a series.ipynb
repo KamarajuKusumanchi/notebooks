{
 "cells": [
  {
   "cell_type": "code",
   "execution_count": 1,
   "metadata": {},
   "outputs": [],
   "source": [
    "import pandas as pd\n",
    "import numpy as np\n",
    "\n",
    "def expand_series(S, I, N):\n",
    "    '''\n",
    "    Given two series S, I of length n, and an integer N which is >= n,\n",
    "    the idea here is to expand S into an N-element vector, E so that E[I[:]] = S[:].\n",
    "    \n",
    "    For example if S is [3.4, 1.8], I is [3, 5] and N is 10, we want E to be [0, 0, 0, 3.4, 0, 1.8, 0, 0, 0, 0]\n",
    "    '''\n",
    "    E = pd.Series(S.values, index=I).reindex(np.arange(0, N)).fillna(0)\n",
    "    return E"
   ]
  },
  {
   "cell_type": "code",
   "execution_count": 2,
   "metadata": {},
   "outputs": [
    {
     "name": "stdout",
     "output_type": "stream",
     "text": [
      "   id  val\n",
      "0   3  3.4\n",
      "1   5  1.8\n"
     ]
    }
   ],
   "source": [
    "df = pd.DataFrame({'id': [3,5], 'val': [3.4, 1.8]})\n",
    "print(df)"
   ]
  },
  {
   "cell_type": "code",
   "execution_count": 3,
   "metadata": {},
   "outputs": [
    {
     "name": "stdout",
     "output_type": "stream",
     "text": [
      "id\n",
      "0    0.0\n",
      "1    0.0\n",
      "2    0.0\n",
      "3    3.4\n",
      "4    0.0\n",
      "5    1.8\n",
      "6    0.0\n",
      "7    0.0\n",
      "8    0.0\n",
      "9    0.0\n",
      "dtype: float64\n"
     ]
    }
   ],
   "source": [
    "unravelled_series = expand_series(df['val'], df['id'], 10)\n",
    "print(unravelled_series)"
   ]
  },
  {
   "cell_type": "code",
   "execution_count": 4,
   "metadata": {},
   "outputs": [
    {
     "name": "stdout",
     "output_type": "stream",
     "text": [
      "   id    0\n",
      "0   0  0.0\n",
      "1   1  0.0\n",
      "2   2  0.0\n",
      "3   3  3.4\n",
      "4   4  0.0\n",
      "5   5  1.8\n",
      "6   6  0.0\n",
      "7   7  0.0\n",
      "8   8  0.0\n",
      "9   9  0.0\n"
     ]
    }
   ],
   "source": [
    "unravelled_df = pd.DataFrame(expand_series(df['val'], df['id'], 10)).reset_index()\n",
    "print(unravelled_df)"
   ]
  }
 ],
 "metadata": {
  "kernelspec": {
   "display_name": "Python 3",
   "language": "python",
   "name": "python3"
  },
  "language_info": {
   "codemirror_mode": {
    "name": "ipython",
    "version": 3
   },
   "file_extension": ".py",
   "mimetype": "text/x-python",
   "name": "python",
   "nbconvert_exporter": "python",
   "pygments_lexer": "ipython3",
   "version": "3.8.2"
  }
 },
 "nbformat": 4,
 "nbformat_minor": 4
}
