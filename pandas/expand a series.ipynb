{
 "cells": [
  {
   "cell_type": "code",
   "execution_count": 1,
   "metadata": {},
   "outputs": [],
   "source": [
    "import pandas as pd\n",
    "import numpy as np\n",
    "\n",
    "def expand_series(compact_series, id_series, n):\n",
    "    '''\n",
    "    Example: If compact_series is [3.4, 1.8], id_series is [3, 5], n is 10, this\n",
    "    function will return [0, 0, 0, 3.4, 0, 1.8, 0, 0, 0, 0].\n",
    "    \n",
    "    This function expands the compact_series into a vector of n elements by adding zeros for the missing ids.\n",
    "    The compact_series contains the non-zero values and id_series contains the corresponding id's.\n",
    "    '''\n",
    "    expanded_series = pd.Series(compact_series.values, index=id_series, name='val').reindex(np.arange(0, n)).fillna(0)\n",
    "    return expanded_series"
   ]
  },
  {
   "cell_type": "code",
   "execution_count": 2,
   "metadata": {},
   "outputs": [
    {
     "name": "stdout",
     "output_type": "stream",
     "text": [
      "df is\n",
      "   id  val\n",
      "0   3  3.4\n",
      "1   5  1.8\n",
      "\n",
      "id\n",
      "0    0.0\n",
      "1    0.0\n",
      "2    0.0\n",
      "3    3.4\n",
      "4    0.0\n",
      "5    1.8\n",
      "6    0.0\n",
      "7    0.0\n",
      "8    0.0\n",
      "9    0.0\n",
      "Name: val, dtype: float64\n",
      "\n",
      "   id  val\n",
      "0   0  0.0\n",
      "1   1  0.0\n",
      "2   2  0.0\n",
      "3   3  3.4\n",
      "4   4  0.0\n",
      "5   5  1.8\n",
      "6   6  0.0\n",
      "7   7  0.0\n",
      "8   8  0.0\n",
      "9   9  0.0\n"
     ]
    }
   ],
   "source": [
    "df = pd.DataFrame({'id': [3,5], 'val': [3.4, 1.8]})\n",
    "print('df is')\n",
    "print(df)\n",
    "\n",
    "\n",
    "unravelled_series = expand_series(df['val'], df['id'], 10)\n",
    "print()\n",
    "print(unravelled_series)\n",
    "\n",
    "unravelled_df = pd.DataFrame(expand_series(df['val'], df['id'], 10)).reset_index()\n",
    "print()\n",
    "print(unravelled_df)"
   ]
  }
 ],
 "metadata": {
  "kernelspec": {
   "display_name": "Python 3",
   "language": "python",
   "name": "python3"
  },
  "language_info": {
   "codemirror_mode": {
    "name": "ipython",
    "version": 3
   },
   "file_extension": ".py",
   "mimetype": "text/x-python",
   "name": "python",
   "nbconvert_exporter": "python",
   "pygments_lexer": "ipython3",
   "version": "3.8.2"
  }
 },
 "nbformat": 4,
 "nbformat_minor": 4
}
