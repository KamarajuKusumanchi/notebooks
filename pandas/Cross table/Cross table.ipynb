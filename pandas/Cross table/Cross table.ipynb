{
 "cells": [
  {
   "cell_type": "markdown",
   "metadata": {},
   "source": [
    "Given a csv file with the following contents\n",
    "\n",
    "```\n",
    "20180701, A\n",
    "20180702, A, B\n",
    "20180703, A, B, C\n",
    "20180704, B, C\n",
    "20180705, C\n",
    "```\n",
    "\n",
    "The idea here is to transform the underlying data into a dataframe such as\n",
    "\n",
    "```\n",
    "    date,     A,     B,     C\n",
    "20180701,  True, False, False\n",
    "20180702,  True,  True, False\n",
    "20180703,  True,  True,  True\n",
    "20180704, False,  True,  True\n",
    "20180705, False, False,  True\n",
    "```\n",
    "\n",
    "See also:- https://mail.python.org/pipermail/python-list/2019-July/741529.html\n",
    "\n",
    "Ref:- https://en.wikipedia.org/wiki/Contingency_table"
   ]
  },
  {
   "cell_type": "code",
   "execution_count": 1,
   "metadata": {},
   "outputs": [],
   "source": [
    "import pandas as pd\n",
    "import numpy as np\n",
    "\n",
    "# expand the data into two numpy arrays such as\n",
    "# a = np.array(['20180701', '20180702', '20180702', '20180703', '20180703', '20180703', '20180704', '20180704', '20180705'])\n",
    "# b = np.array(['A', 'A', 'B', 'A', 'B', 'C', 'B', 'C', 'C'])\n",
    "\n",
    "rows = []\n",
    "cols = []\n",
    "\n",
    "with open('data.csv') as fo:\n",
    "    for line in fo:\n",
    "        line = line.strip()\n",
    "        elem = line.split(',')\n",
    "        N = len(elem)\n",
    "        rows += elem[0:1] * (N-1)\n",
    "        cols += elem[1:]\n",
    "\n",
    "a = np.array(rows)\n",
    "b = np.array(cols)"
   ]
  },
  {
   "cell_type": "code",
   "execution_count": 2,
   "metadata": {},
   "outputs": [
    {
     "name": "stdout",
     "output_type": "stream",
     "text": [
      "['20180701' '20180702' '20180702' '20180703' '20180703' '20180703'\n",
      " '20180704' '20180704' '20180705']\n",
      "[' A' ' A' ' B' ' A' ' B' ' C' ' B' ' C' ' C']\n"
     ]
    }
   ],
   "source": [
    "print(a)\n",
    "print(b)"
   ]
  },
  {
   "cell_type": "code",
   "execution_count": 3,
   "metadata": {},
   "outputs": [
    {
     "name": "stdout",
     "output_type": "stream",
     "text": [
      "col_0      A   B   C\n",
      "row_0               \n",
      "20180701   1   0   0\n",
      "20180702   1   1   0\n",
      "20180703   1   1   1\n",
      "20180704   0   1   1\n",
      "20180705   0   0   1\n"
     ]
    }
   ],
   "source": [
    "df = pd.crosstab(a, b)\n",
    "print(df)"
   ]
  },
  {
   "cell_type": "markdown",
   "metadata": {},
   "source": [
    "Ref: https://pandas.pydata.org/pandas-docs/stable/reference/api/pandas.crosstab.html"
   ]
  },
  {
   "cell_type": "code",
   "execution_count": 4,
   "metadata": {},
   "outputs": [
    {
     "data": {
      "text/html": [
       "<div>\n",
       "<style scoped>\n",
       "    .dataframe tbody tr th:only-of-type {\n",
       "        vertical-align: middle;\n",
       "    }\n",
       "\n",
       "    .dataframe tbody tr th {\n",
       "        vertical-align: top;\n",
       "    }\n",
       "\n",
       "    .dataframe thead th {\n",
       "        text-align: right;\n",
       "    }\n",
       "</style>\n",
       "<table border=\"1\" class=\"dataframe\">\n",
       "  <thead>\n",
       "    <tr style=\"text-align: right;\">\n",
       "      <th>col_0</th>\n",
       "      <th>date</th>\n",
       "      <th>A</th>\n",
       "      <th>B</th>\n",
       "      <th>C</th>\n",
       "    </tr>\n",
       "  </thead>\n",
       "  <tbody>\n",
       "    <tr>\n",
       "      <th>0</th>\n",
       "      <td>20180701</td>\n",
       "      <td>True</td>\n",
       "      <td>False</td>\n",
       "      <td>False</td>\n",
       "    </tr>\n",
       "    <tr>\n",
       "      <th>1</th>\n",
       "      <td>20180702</td>\n",
       "      <td>True</td>\n",
       "      <td>True</td>\n",
       "      <td>False</td>\n",
       "    </tr>\n",
       "    <tr>\n",
       "      <th>2</th>\n",
       "      <td>20180703</td>\n",
       "      <td>True</td>\n",
       "      <td>True</td>\n",
       "      <td>True</td>\n",
       "    </tr>\n",
       "    <tr>\n",
       "      <th>3</th>\n",
       "      <td>20180704</td>\n",
       "      <td>False</td>\n",
       "      <td>True</td>\n",
       "      <td>True</td>\n",
       "    </tr>\n",
       "    <tr>\n",
       "      <th>4</th>\n",
       "      <td>20180705</td>\n",
       "      <td>False</td>\n",
       "      <td>False</td>\n",
       "      <td>True</td>\n",
       "    </tr>\n",
       "  </tbody>\n",
       "</table>\n",
       "</div>"
      ],
      "text/plain": [
       "col_0      date      A      B      C\n",
       "0      20180701   True  False  False\n",
       "1      20180702   True   True  False\n",
       "2      20180703   True   True   True\n",
       "3      20180704  False   True   True\n",
       "4      20180705  False  False   True"
      ]
     },
     "execution_count": 4,
     "metadata": {},
     "output_type": "execute_result"
    }
   ],
   "source": [
    "# Get into the desired form\n",
    "df = pd.crosstab(a, b, rownames=['date']).astype('bool').reset_index()\n",
    "df"
   ]
  },
  {
   "cell_type": "markdown",
   "metadata": {},
   "source": [
    "useful links on crosstab\n",
    "* https://riptutorial.com/pandas/example/6821/cross-tabulation - introductory, the example used is nice.\n",
    "* https://pbpython.com/pandas-crosstab.html\n",
    "* http://www.datasciencemadesimple.com/cross-tab-cross-table-python-pandas/"
   ]
  }
 ],
 "metadata": {
  "kernelspec": {
   "display_name": "Python 3",
   "language": "python",
   "name": "python3"
  },
  "language_info": {
   "codemirror_mode": {
    "name": "ipython",
    "version": 3
   },
   "file_extension": ".py",
   "mimetype": "text/x-python",
   "name": "python",
   "nbconvert_exporter": "python",
   "pygments_lexer": "ipython3",
   "version": "3.6.8"
  }
 },
 "nbformat": 4,
 "nbformat_minor": 2
}
