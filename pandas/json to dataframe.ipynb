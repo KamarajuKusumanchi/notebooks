{
 "cells": [
  {
   "cell_type": "markdown",
   "metadata": {},
   "source": [
    "Features of the input\n",
    "* some cells of the dataframe are arrays\n",
    "* some elements in those arrays are None"
   ]
  },
  {
   "cell_type": "code",
   "execution_count": 1,
   "metadata": {},
   "outputs": [
    {
     "name": "stdout",
     "output_type": "stream",
     "text": [
      "df: \n",
      "    day        month\n",
      "0  sun        [jan]\n",
      "1  mon   [feb, mar]\n",
      "2  tue  [apr, None] \n",
      "\n",
      "json: \n",
      " [{\"day\":\"sun\",\"month\":[\"jan\"]},{\"day\":\"mon\",\"month\":[\"feb\",\"mar\"]},{\"day\":\"tue\",\"month\":[\"apr\",null]}] \n",
      "\n",
      "df2: \n",
      "    day        month\n",
      "0  sun        [jan]\n",
      "1  mon   [feb, mar]\n",
      "2  tue  [apr, None] \n",
      "\n"
     ]
    }
   ],
   "source": [
    "import pandas as pd\n",
    "df = pd.DataFrame([{'day': 'sun', 'month': ['jan']},\n",
    "                   {'day': 'mon', 'month': ['feb', 'mar']},\n",
    "                   {'day': 'tue', 'month': ['apr', None]}])\n",
    "print('df: \\n', df, '\\n')\n",
    "\n",
    "json = df.to_json(orient='records')\n",
    "print('json: \\n', json, '\\n')\n",
    "\n",
    "df2 = pd.read_json(json, orient='records')\n",
    "print('df2: \\n', df2, '\\n')"
   ]
  }
 ],
 "metadata": {
  "kernelspec": {
   "display_name": "Python 3",
   "language": "python",
   "name": "python3"
  },
  "language_info": {
   "codemirror_mode": {
    "name": "ipython",
    "version": 3
   },
   "file_extension": ".py",
   "mimetype": "text/x-python",
   "name": "python",
   "nbconvert_exporter": "python",
   "pygments_lexer": "ipython3",
   "version": "3.6.6"
  }
 },
 "nbformat": 4,
 "nbformat_minor": 2
}
