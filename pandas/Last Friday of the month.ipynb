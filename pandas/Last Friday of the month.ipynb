{
 "cells": [
  {
   "cell_type": "code",
   "execution_count": 1,
   "metadata": {
    "collapsed": false
   },
   "outputs": [
    {
     "name": "stdout",
     "output_type": "stream",
     "text": [
      "20180126\n",
      "20180223\n",
      "20180330\n",
      "20180427\n",
      "20180525\n",
      "20180629\n",
      "20180727\n",
      "20180831\n",
      "20180928\n",
      "20181026\n",
      "20181130\n",
      "20181228\n",
      "20080229\n"
     ]
    }
   ],
   "source": [
    "from datetime import datetime\n",
    "from calendar import monthrange\n",
    "from dateutil.relativedelta import relativedelta\n",
    "\n",
    "def get_last_weekday_of_month(doi, weekdoi=4, date_fmt='%Y%m%d'):\n",
    "    dt = datetime.strptime(doi, date_fmt)\n",
    "    # Get the last day of the month\n",
    "    xday = dt.replace(day = monthrange(dt.year, dt.month)[1])\n",
    "    # Go back until we hit the week day of interest\n",
    "    while xday.weekday() != weekdoi:\n",
    "        xday += relativedelta(days=-1)\n",
    "    return xday.strftime(date_fmt)\n",
    "\n",
    "\n",
    "print(get_last_weekday_of_month('20180115', 4))\n",
    "print(get_last_weekday_of_month('20180215', 4))\n",
    "print(get_last_weekday_of_month('20180315', 4))\n",
    "print(get_last_weekday_of_month('20180415', 4))\n",
    "\n",
    "print(get_last_weekday_of_month('20180515', 4))\n",
    "print(get_last_weekday_of_month('20180615', 4))\n",
    "print(get_last_weekday_of_month('20180715', 4))\n",
    "print(get_last_weekday_of_month('20180815', 4))\n",
    "\n",
    "print(get_last_weekday_of_month('20180915', 4))\n",
    "print(get_last_weekday_of_month('20181015', 4))\n",
    "print(get_last_weekday_of_month('20181115', 4))\n",
    "print(get_last_weekday_of_month('20181215', 4))\n",
    "\n",
    "print(get_last_weekday_of_month('20080215', 4))"
   ]
  }
 ],
 "metadata": {
  "kernelspec": {
   "display_name": "Python 2",
   "language": "python",
   "name": "python2"
  },
  "language_info": {
   "codemirror_mode": {
    "name": "ipython",
    "version": 2
   },
   "file_extension": ".py",
   "mimetype": "text/x-python",
   "name": "python",
   "nbconvert_exporter": "python",
   "pygments_lexer": "ipython2",
   "version": "2.7.13"
  }
 },
 "nbformat": 4,
 "nbformat_minor": 2
}
