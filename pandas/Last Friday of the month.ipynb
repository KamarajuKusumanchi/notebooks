{
 "cells": [
  {
   "cell_type": "code",
   "execution_count": 1,
   "metadata": {
    "collapsed": false
   },
   "outputs": [
    {
     "name": "stdout",
     "output_type": "stream",
     "text": [
      "20181228\n"
     ]
    }
   ],
   "source": [
    "from datetime import datetime\n",
    "from calendar import monthrange\n",
    "from dateutil.relativedelta import relativedelta\n",
    "\n",
    "def get_last_xday_of_month(doi, weekdoi=4, date_fmt='%Y%m%d'):\n",
    "    dt = datetime.strptime(doi, date_fmt)\n",
    "    # Get the last day of the month\n",
    "    xday = dt.replace(day = monthrange(dt.year, dt.month)[1])\n",
    "    # Go back until we hit the week day of interest\n",
    "    while xday.weekday() != weekdoi:\n",
    "        xday += relativedelta(days=-1)\n",
    "    return xday.strftime(date_fmt)\n",
    "\n",
    "# To get the last Friday of Dec 2018\n",
    "print(get_last_xday_of_month('20181215', 4))"
   ]
  }
 ],
 "metadata": {
  "kernelspec": {
   "display_name": "Python 2",
   "language": "python",
   "name": "python2"
  },
  "language_info": {
   "codemirror_mode": {
    "name": "ipython",
    "version": 2
   },
   "file_extension": ".py",
   "mimetype": "text/x-python",
   "name": "python",
   "nbconvert_exporter": "python",
   "pygments_lexer": "ipython2",
   "version": "2.7.13"
  }
 },
 "nbformat": 4,
 "nbformat_minor": 2
}
