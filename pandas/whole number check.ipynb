{
 "cells": [
  {
   "cell_type": "markdown",
   "metadata": {},
   "source": [
    "Create a new column populated by True or False depending on whether floats in another column are whole numbers.\n",
    "\n",
    "Sample input:\n",
    "  label  value\n",
    "      A    1.0\n",
    "      B    2.5\n",
    "      C    3.0\n",
    "      D    3.2\n",
    "      \n",
    "Desired output:\n",
    "  label  value  is_whole\n",
    "      A    1.0      True\n",
    "      B    2.5     False\n",
    "      C    3.0      True\n",
    "      D    3.2     False"
   ]
  },
  {
   "cell_type": "code",
   "execution_count": 1,
   "metadata": {},
   "outputs": [
    {
     "name": "stdout",
     "output_type": "stream",
     "text": [
      "  label  value\n",
      "0     A    1.0\n",
      "1     B    2.5\n",
      "2     C    3.0\n",
      "3     D    3.2\n"
     ]
    }
   ],
   "source": [
    "import pandas as pd\n",
    "df = pd.DataFrame([['A', 1], ['B', 2.5],\n",
    "                   ['C', 3.0], ['D', 3.2]],\n",
    "                  columns=['label', 'value'])\n",
    "print(df)"
   ]
  },
  {
   "cell_type": "code",
   "execution_count": 2,
   "metadata": {},
   "outputs": [
    {
     "name": "stdout",
     "output_type": "stream",
     "text": [
      "  label  value  is_whole\n",
      "0     A    1.0      True\n",
      "1     B    2.5     False\n",
      "2     C    3.0      True\n",
      "3     D    3.2     False\n"
     ]
    }
   ],
   "source": [
    "df['is_whole'] = df['value'].apply(lambda x: x.is_integer())\n",
    "print(df)"
   ]
  },
  {
   "cell_type": "markdown",
   "metadata": {},
   "source": [
    "Ref:- https://stackoverflow.com/questions/40370382/creating-new-column-in-pandas-df-populated-by-true-false-depending-on-whether-a"
   ]
  }
 ],
 "metadata": {
  "kernelspec": {
   "display_name": "Python 3",
   "language": "python",
   "name": "python3"
  },
  "language_info": {
   "codemirror_mode": {
    "name": "ipython",
    "version": 3
   },
   "file_extension": ".py",
   "mimetype": "text/x-python",
   "name": "python",
   "nbconvert_exporter": "python",
   "pygments_lexer": "ipython3",
   "version": "3.6.8"
  }
 },
 "nbformat": 4,
 "nbformat_minor": 2
}
