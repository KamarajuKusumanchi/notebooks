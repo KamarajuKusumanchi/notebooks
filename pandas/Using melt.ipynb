{
 "cells": [
  {
   "cell_type": "code",
   "execution_count": 1,
   "metadata": {},
   "outputs": [
    {
     "name": "stdout",
     "output_type": "stream",
     "text": [
      "     A      B         C         D\n",
      "0  foo    one  0.496714 -0.234153\n",
      "1  bar    one -0.138264 -0.234137\n",
      "2  foo    two  0.647689  1.579213\n",
      "3  bar  three  1.523030  0.767435\n"
     ]
    }
   ],
   "source": [
    "import numpy as np\n",
    "import pandas as pd\n",
    "\n",
    "np.random.seed(42)\n",
    "df = pd.DataFrame({'A' : ['foo', 'bar', 'foo', 'bar'],\n",
    "                   'B' : ['one', 'one', 'two', 'three'],\n",
    "                   'C' : np.random.randn(4),\n",
    "                   'D' : np.random.randn(4)\n",
    "                  })\n",
    "print(df)"
   ]
  },
  {
   "cell_type": "code",
   "execution_count": 2,
   "metadata": {},
   "outputs": [
    {
     "name": "stdout",
     "output_type": "stream",
     "text": [
      "      A variable     value\n",
      "0   foo        B       one\n",
      "1   bar        B       one\n",
      "2   foo        B       two\n",
      "3   bar        B     three\n",
      "4   foo        C  0.496714\n",
      "5   bar        C -0.138264\n",
      "6   foo        C  0.647689\n",
      "7   bar        C   1.52303\n",
      "8   foo        D -0.234153\n",
      "9   bar        D -0.234137\n",
      "10  foo        D   1.57921\n",
      "11  bar        D  0.767435\n"
     ]
    }
   ],
   "source": [
    "melted = pd.melt(df, id_vars=['A'])\n",
    "print(melted)"
   ]
  },
  {
   "cell_type": "code",
   "execution_count": 3,
   "metadata": {},
   "outputs": [
    {
     "name": "stdout",
     "output_type": "stream",
     "text": [
      "     A      B variable     value\n",
      "0  foo    one        C  0.496714\n",
      "1  bar    one        C -0.138264\n",
      "2  foo    two        C  0.647689\n",
      "3  bar  three        C  1.523030\n",
      "4  foo    one        D -0.234153\n",
      "5  bar    one        D -0.234137\n",
      "6  foo    two        D  1.579213\n",
      "7  bar  three        D  0.767435\n"
     ]
    }
   ],
   "source": [
    "melted = pd.melt(df, id_vars=['A', 'B'], value_vars=['C', 'D'])\n",
    "print(melted)"
   ]
  }
 ],
 "metadata": {
  "kernelspec": {
   "display_name": "Python 3",
   "language": "python",
   "name": "python3"
  },
  "language_info": {
   "codemirror_mode": {
    "name": "ipython",
    "version": 3
   },
   "file_extension": ".py",
   "mimetype": "text/x-python",
   "name": "python",
   "nbconvert_exporter": "python",
   "pygments_lexer": "ipython3",
   "version": "3.6.8"
  }
 },
 "nbformat": 4,
 "nbformat_minor": 2
}
