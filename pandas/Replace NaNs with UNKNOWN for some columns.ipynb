{
 "cells": [
  {
   "cell_type": "markdown",
   "metadata": {},
   "source": [
    "tags | fillna on some columns"
   ]
  },
  {
   "cell_type": "code",
   "execution_count": 1,
   "metadata": {},
   "outputs": [
    {
     "name": "stdout",
     "output_type": "stream",
     "text": [
      "      A      B         C         D         E      F  G\n",
      "0   foo    one  0.496714 -0.469474 -1.012831   None  a\n",
      "1   bar   None       NaN  0.542560  0.314247   True  b\n",
      "2  None   None       NaN -0.463418 -0.908024   None  c\n",
      "3   bar  three       NaN -0.465730 -1.412304  False  d\n",
      "4   foo    two -0.234153  0.241962  1.465649   None  e\n",
      "5   bar    two -0.234137       NaN -0.225776   True  f\n",
      "6   foo   None  1.579213 -1.724918  0.067528  False  g\n",
      "7  None  three  0.767435 -0.562288 -1.424748   True  h\n"
     ]
    }
   ],
   "source": [
    "import numpy as np\n",
    "import pandas as pd\n",
    "\n",
    "np.random.seed(42)\n",
    "df = pd.DataFrame({'A' : ['foo', 'bar', None, 'bar',\n",
    "                          'foo', 'bar', 'foo', None],\n",
    "                   'B' : ['one', None, None, 'three',\n",
    "                          'two', 'two', None, 'three'],\n",
    "                   'C' : np.random.randn(8),\n",
    "                   'D' : np.random.randn(8),\n",
    "                   'E' : np.random.randn(8),\n",
    "                   'F' : [None, True, None, False, None, True, False, True],\n",
    "                   'G' : ['a', 'b', 'c', 'd', 'e', 'f', 'g', 'h']\n",
    "                  })\n",
    "df.loc[1:3, 'C'] = np.nan\n",
    "df.loc[5,'D'] = np.nan\n",
    "print(df)"
   ]
  },
  {
   "cell_type": "code",
   "execution_count": 2,
   "metadata": {},
   "outputs": [
    {
     "name": "stdout",
     "output_type": "stream",
     "text": [
      "         A        B              C         D         E      F  G\n",
      "0      foo      one       0.496714 -0.469474 -1.012831   None  a\n",
      "1      bar  UNKNOWN  999999.000000  0.542560  0.314247   True  b\n",
      "2  UNKNOWN  UNKNOWN  999999.000000 -0.463418 -0.908024   None  c\n",
      "3      bar    three  999999.000000 -0.465730 -1.412304  False  d\n",
      "4      foo      two      -0.234153  0.241962  1.465649   None  e\n",
      "5      bar      two      -0.234137       NaN -0.225776   True  f\n",
      "6      foo  UNKNOWN       1.579213 -1.724918  0.067528  False  g\n",
      "7  UNKNOWN    three       0.767435 -0.562288 -1.424748   True  h\n"
     ]
    }
   ],
   "source": [
    "obj_coi = ['A', 'B']\n",
    "flt_coi = ['C', 'E']\n",
    "df[obj_coi] = df[obj_coi].fillna(value='UNKNOWN')\n",
    "df[flt_coi] = df[flt_coi].fillna(value=999999)\n",
    "\n",
    "print(df)"
   ]
  }
 ],
 "metadata": {
  "kernelspec": {
   "display_name": "Python 3",
   "language": "python",
   "name": "python3"
  },
  "language_info": {
   "codemirror_mode": {
    "name": "ipython",
    "version": 3
   },
   "file_extension": ".py",
   "mimetype": "text/x-python",
   "name": "python",
   "nbconvert_exporter": "python",
   "pygments_lexer": "ipython3",
   "version": "3.6.6"
  }
 },
 "nbformat": 4,
 "nbformat_minor": 2
}
