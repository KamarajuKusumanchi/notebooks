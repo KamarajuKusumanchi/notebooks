{
 "cells": [
  {
   "cell_type": "code",
   "execution_count": 2,
   "metadata": {},
   "outputs": [
    {
     "name": "stdout",
     "output_type": "stream",
     "text": [
      "          0         1         2         3         4         5\n",
      "0  0.207101 -0.723763 -0.423357 -0.364522  0.714964 -1.532480\n",
      "1  0.419497       NaN -2.655414 -0.426040 -1.092454  0.216256\n",
      "2 -0.240924       NaN -0.220639  0.682544 -0.648353 -0.969465\n",
      "3 -0.253198 -0.178788 -0.103033  0.646069  2.306175  0.950579\n",
      "4 -0.940791  0.676866 -0.284188  0.274202  1.999354  0.451559\n",
      "5 -1.594349 -1.822428  0.818556       NaN -0.442295  1.297577\n",
      "6  1.695343  0.829484  0.898400  0.791917  1.169061  1.736924\n",
      "7  0.349483  1.291172 -0.256794  0.451364  1.249666       NaN\n",
      "8 -0.328536 -1.401652  0.987680 -1.519894  0.304069       NaN\n",
      "9  1.060369 -1.267995  0.757991 -0.232577 -0.754964  0.771374\n"
     ]
    }
   ],
   "source": [
    "import pandas as pd\n",
    "import numpy as np\n",
    "\n",
    "df = pd.DataFrame(np.random.randn(10,6))\n",
    "# Make a few areas have NaN values\n",
    "df.iloc[1:3,1] = np.nan\n",
    "df.iloc[5,3] = np.nan\n",
    "df.iloc[7:9,5] = np.nan\n",
    "print(df)"
   ]
  },
  {
   "cell_type": "code",
   "execution_count": 3,
   "metadata": {},
   "outputs": [
    {
     "data": {
      "text/plain": [
       "False"
      ]
     },
     "execution_count": 3,
     "metadata": {},
     "output_type": "execute_result"
    }
   ],
   "source": [
    "df[0].isnull().any()"
   ]
  },
  {
   "cell_type": "code",
   "execution_count": 4,
   "metadata": {},
   "outputs": [
    {
     "data": {
      "text/plain": [
       "True"
      ]
     },
     "execution_count": 4,
     "metadata": {},
     "output_type": "execute_result"
    }
   ],
   "source": [
    "df[3].isnull().any()"
   ]
  }
 ],
 "metadata": {
  "kernelspec": {
   "display_name": "Python 3",
   "language": "python",
   "name": "python3"
  },
  "language_info": {
   "codemirror_mode": {
    "name": "ipython",
    "version": 3
   },
   "file_extension": ".py",
   "mimetype": "text/x-python",
   "name": "python",
   "nbconvert_exporter": "python",
   "pygments_lexer": "ipython3",
   "version": "3.6.6"
  }
 },
 "nbformat": 4,
 "nbformat_minor": 2
}
