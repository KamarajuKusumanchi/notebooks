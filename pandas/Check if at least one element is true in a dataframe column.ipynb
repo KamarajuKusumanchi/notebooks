{
 "cells": [
  {
   "cell_type": "code",
   "execution_count": 1,
   "metadata": {},
   "outputs": [
    {
     "name": "stdout",
     "output_type": "stream",
     "text": [
      "     A      B         C         D         E      F  G\n",
      "0  foo    one  0.496714 -0.469474 -1.012831   None  a\n",
      "1  bar    one -0.138264  0.542560  0.314247   True  b\n",
      "2  foo    two  0.647689 -0.463418 -0.908024   None  c\n",
      "3  bar  three  1.523030 -0.465730 -1.412304  False  d\n",
      "4  foo    two -0.234153  0.241962  1.465649   None  e\n",
      "5  bar    two -0.234137 -1.913280 -0.225776   True  f\n",
      "6  foo    one  1.579213 -1.724918  0.067528  False  g\n",
      "7  foo  three  0.767435 -0.562288 -1.424748   True  h\n"
     ]
    }
   ],
   "source": [
    "import numpy as np\n",
    "import pandas as pd\n",
    "\n",
    "np.random.seed(42)\n",
    "df = pd.DataFrame({'A' : ['foo', 'bar', 'foo', 'bar',\n",
    "                          'foo', 'bar', 'foo', 'foo'],\n",
    "                   'B' : ['one', 'one', 'two', 'three',\n",
    "                          'two', 'two', 'one', 'three'],\n",
    "                   'C' : np.random.randn(8),\n",
    "                   'D' : np.random.randn(8),\n",
    "                   'E' : np.random.randn(8),\n",
    "                   'F' : [None, True, None, False, None, True, False, True],\n",
    "                   'G' : ['a', 'b', 'c', 'd', 'e', 'f', 'g', 'h']\n",
    "                  })\n",
    "print(df)"
   ]
  },
  {
   "cell_type": "code",
   "execution_count": 2,
   "metadata": {},
   "outputs": [
    {
     "data": {
      "text/plain": [
       "True"
      ]
     },
     "execution_count": 2,
     "metadata": {},
     "output_type": "execute_result"
    }
   ],
   "source": [
    "df['F'].any()"
   ]
  },
  {
   "cell_type": "code",
   "execution_count": 3,
   "metadata": {},
   "outputs": [
    {
     "name": "stdout",
     "output_type": "stream",
     "text": [
      "     A      B         C         D         E      F  G\n",
      "0  foo    one  0.496714 -0.469474 -1.012831  False  a\n",
      "1  bar    one -0.138264  0.542560  0.314247   None  b\n",
      "2  foo    two  0.647689 -0.463418 -0.908024  False  c\n",
      "3  bar  three  1.523030 -0.465730 -1.412304   None  d\n",
      "4  foo    two -0.234153  0.241962  1.465649  False  e\n",
      "5  bar    two -0.234137 -1.913280 -0.225776   None  f\n",
      "6  foo    one  1.579213 -1.724918  0.067528  False  g\n",
      "7  foo  three  0.767435 -0.562288 -1.424748   None  h\n"
     ]
    },
    {
     "data": {
      "text/plain": [
       "False"
      ]
     },
     "execution_count": 3,
     "metadata": {},
     "output_type": "execute_result"
    }
   ],
   "source": [
    "df['F'] = [False, None]*4\n",
    "print(df)\n",
    "df['F'].any()"
   ]
  },
  {
   "cell_type": "code",
   "execution_count": 4,
   "metadata": {},
   "outputs": [
    {
     "name": "stdout",
     "output_type": "stream",
     "text": [
      "     A      B         C         D         E      F  G\n",
      "0  foo    one  0.496714 -0.469474 -1.012831  False  a\n",
      "1  bar    one -0.138264  0.542560  0.314247   None  b\n",
      "2  foo    two  0.647689 -0.463418 -0.908024  False  c\n",
      "3  bar  three  1.523030 -0.465730 -1.412304   None  d\n",
      "4  foo    two -0.234153  0.241962  1.465649  False  e\n",
      "5  bar    two -0.234137 -1.913280 -0.225776   True  f\n",
      "6  foo    one  1.579213 -1.724918  0.067528  False  g\n",
      "7  foo  three  0.767435 -0.562288 -1.424748   None  h\n"
     ]
    },
    {
     "data": {
      "text/plain": [
       "True"
      ]
     },
     "execution_count": 4,
     "metadata": {},
     "output_type": "execute_result"
    }
   ],
   "source": [
    "df.loc[5, 'F'] = True\n",
    "print(df)\n",
    "df['F'].any()"
   ]
  }
 ],
 "metadata": {
  "kernelspec": {
   "display_name": "Python 3",
   "language": "python",
   "name": "python3"
  },
  "language_info": {
   "codemirror_mode": {
    "name": "ipython",
    "version": 3
   },
   "file_extension": ".py",
   "mimetype": "text/x-python",
   "name": "python",
   "nbconvert_exporter": "python",
   "pygments_lexer": "ipython3",
   "version": "3.6.6"
  }
 },
 "nbformat": 4,
 "nbformat_minor": 2
}
