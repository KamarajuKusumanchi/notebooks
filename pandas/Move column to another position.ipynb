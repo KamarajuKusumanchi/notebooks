{
 "cells": [
  {
   "cell_type": "code",
   "execution_count": 1,
   "metadata": {},
   "outputs": [
    {
     "name": "stdout",
     "output_type": "stream",
     "text": [
      "          D         F         C         E\n",
      "0  0.496714 -0.469474 -1.012831 -0.544383\n",
      "1 -0.138264  0.542560  0.314247  0.110923\n",
      "2  0.647689 -0.463418 -0.908024 -1.150994\n",
      "3  1.523030 -0.465730 -1.412304  0.375698\n",
      "4 -0.234153  0.241962  1.465649 -0.600639\n",
      "5 -0.234137 -1.913280 -0.225776 -0.291694\n",
      "6  1.579213 -1.724918  0.067528 -0.601707\n",
      "7  0.767435 -0.562288 -1.424748  1.852278\n"
     ]
    }
   ],
   "source": [
    "import numpy as np\n",
    "import pandas as pd\n",
    "\n",
    "np.random.seed(42)\n",
    "df = pd.DataFrame({'D' : np.random.randn(8),\n",
    "                   'F' : np.random.randn(8),\n",
    "                   'C' : np.random.randn(8),\n",
    "                   'E' : np.random.randn(8)\n",
    "                  })\n",
    "print(df)"
   ]
  },
  {
   "cell_type": "code",
   "execution_count": 2,
   "metadata": {},
   "outputs": [
    {
     "name": "stdout",
     "output_type": "stream",
     "text": [
      "          D         F         E         C\n",
      "0  0.496714 -0.469474 -0.544383 -1.012831\n",
      "1 -0.138264  0.542560  0.110923  0.314247\n",
      "2  0.647689 -0.463418 -1.150994 -0.908024\n",
      "3  1.523030 -0.465730  0.375698 -1.412304\n",
      "4 -0.234153  0.241962 -0.600639  1.465649\n",
      "5 -0.234137 -1.913280 -0.291694 -0.225776\n",
      "6  1.579213 -1.724918 -0.601707  0.067528\n",
      "7  0.767435 -0.562288  1.852278 -1.424748\n"
     ]
    }
   ],
   "source": [
    "def move_column(df, col_name, new_pos):\n",
    "    cols = df.columns.tolist()\n",
    "    old_pos = cols.index(col_name)\n",
    "    cols.insert(new_pos, cols.pop(old_pos))\n",
    "    return df.reindex(columns=cols)\n",
    "\n",
    "df3 = move_column(df, 'C', 3)\n",
    "print(df3)"
   ]
  },
  {
   "cell_type": "code",
   "execution_count": 3,
   "metadata": {},
   "outputs": [
    {
     "name": "stdout",
     "output_type": "stream",
     "text": [
      "          E         D         F         C\n",
      "0 -0.544383  0.496714 -0.469474 -1.012831\n",
      "1  0.110923 -0.138264  0.542560  0.314247\n",
      "2 -1.150994  0.647689 -0.463418 -0.908024\n",
      "3  0.375698  1.523030 -0.465730 -1.412304\n",
      "4 -0.600639 -0.234153  0.241962  1.465649\n",
      "5 -0.291694 -0.234137 -1.913280 -0.225776\n",
      "6 -0.601707  1.579213 -1.724918  0.067528\n",
      "7  1.852278  0.767435 -0.562288 -1.424748\n"
     ]
    }
   ],
   "source": [
    "def move_col_to_front(df, col_name):\n",
    "    return move_column(df, col_name, 0)\n",
    "df3 = move_col_to_front(df, 'E')\n",
    "print(df3)"
   ]
  }
 ],
 "metadata": {
  "kernelspec": {
   "display_name": "Python 3",
   "language": "python",
   "name": "python3"
  },
  "language_info": {
   "codemirror_mode": {
    "name": "ipython",
    "version": 3
   },
   "file_extension": ".py",
   "mimetype": "text/x-python",
   "name": "python",
   "nbconvert_exporter": "python",
   "pygments_lexer": "ipython3",
   "version": "3.6.8"
  }
 },
 "nbformat": 4,
 "nbformat_minor": 2
}
