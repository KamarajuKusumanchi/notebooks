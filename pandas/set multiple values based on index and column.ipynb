{
 "cells": [
  {
   "cell_type": "code",
   "execution_count": 6,
   "metadata": {
    "collapsed": false
   },
   "outputs": [
    {
     "name": "stdout",
     "output_type": "stream",
     "text": [
      "     A      B         C         D         E     F  G\n",
      "0  foo    one  0.496714 -0.469474 -1.012831  None  a\n",
      "1  bar    one -0.138264  0.542560  0.314247  True  b\n",
      "2  foo    two  0.647689 -0.463418 -0.908024  None  c\n",
      "3  bar  three  1.523030 -0.465730 -1.412304  None  d\n",
      "4  foo    two -0.234153  0.241962  1.465649  None  e\n",
      "5  bar    two -0.234137 -1.913280 -0.225776  True  f\n",
      "6  foo    one  1.579213 -1.724918  0.067528  None  g\n",
      "7  foo  three  0.767435 -0.562288 -1.424748  True  h\n"
     ]
    }
   ],
   "source": [
    "import numpy as np\n",
    "import pandas as pd\n",
    "\n",
    "np.random.seed(42)\n",
    "df = pd.DataFrame({'A' : ['foo', 'bar', 'foo', 'bar',\n",
    "                          'foo', 'bar', 'foo', 'foo'],\n",
    "                   'B' : ['one', 'one', 'two', 'three',\n",
    "                          'two', 'two', 'one', 'three'],\n",
    "                   'C' : np.random.randn(8),\n",
    "                   'D' : np.random.randn(8),\n",
    "                   'E' : np.random.randn(8),\n",
    "                   'F' : [None, True, None, None, None, True, None, True],\n",
    "                   'G' : ['a', 'b', 'c', 'd', 'e', 'f', 'g', 'h']\n",
    "                  })\n",
    "print df"
   ]
  },
  {
   "cell_type": "code",
   "execution_count": 7,
   "metadata": {
    "collapsed": false
   },
   "outputs": [
    {
     "name": "stdout",
     "output_type": "stream",
     "text": [
      "     A      B         C         D         E     F\n",
      "G                                                \n",
      "a  foo    one  0.496714 -0.469474 -1.012831  None\n",
      "b  bar    one -0.138264  0.542560  0.314247  True\n",
      "c  foo    two  0.647689 -0.463418 -0.908024  None\n",
      "d  bar  three  1.523030 -0.465730 -1.412304  None\n",
      "e  foo    two -0.234153  0.241962  1.465649  None\n",
      "f  bar    two -0.234137 -1.913280 -0.225776  True\n",
      "g  foo    one  1.579213 -1.724918  0.067528  None\n",
      "h  foo  three  0.767435 -0.562288 -1.424748  True\n"
     ]
    }
   ],
   "source": [
    "df.set_index('G', inplace=True)\n",
    "print df"
   ]
  },
  {
   "cell_type": "code",
   "execution_count": 11,
   "metadata": {
    "collapsed": false
   },
   "outputs": [
    {
     "name": "stdout",
     "output_type": "stream",
     "text": [
      "     A      B         C         D         E     F\n",
      "G                                                \n",
      "a  foo    one  0.496714 -0.469474 -1.012831  None\n",
      "b  bar    one  5.000000  0.542560  5.000000  True\n",
      "c  foo    two  0.647689 -0.463418 -0.908024  None\n",
      "d  bar  three  1.523030 -0.465730 -1.412304  None\n",
      "e  foo    two  5.000000  0.241962  5.000000  None\n",
      "f  bar    two -0.234137 -1.913280 -0.225776  True\n",
      "g  foo    one  5.000000 -1.724918  5.000000  None\n",
      "h  foo  three  0.767435 -0.562288 -1.424748  True\n"
     ]
    }
   ],
   "source": [
    "df.loc[['b', 'e', 'g'], ['C', 'E']] = 5\n",
    "print df"
   ]
  }
 ],
 "metadata": {
  "kernelspec": {
   "display_name": "Python 2",
   "language": "python",
   "name": "python2"
  },
  "language_info": {
   "codemirror_mode": {
    "name": "ipython",
    "version": 2
   },
   "file_extension": ".py",
   "mimetype": "text/x-python",
   "name": "python",
   "nbconvert_exporter": "python",
   "pygments_lexer": "ipython2",
   "version": "2.7.13"
  }
 },
 "nbformat": 4,
 "nbformat_minor": 2
}
