{
 "cells": [
  {
   "cell_type": "code",
   "execution_count": 1,
   "metadata": {},
   "outputs": [
    {
     "name": "stdout",
     "output_type": "stream",
     "text": [
      "Empty DataFrame\n",
      "Columns: [bar]\n",
      "Index: []\n"
     ]
    }
   ],
   "source": [
    "import pandas as pd\n",
    "\n",
    "a = pd.DataFrame(); a['bar'] = 'snack'; print(a)"
   ]
  },
  {
   "cell_type": "code",
   "execution_count": 2,
   "metadata": {},
   "outputs": [
    {
     "name": "stdout",
     "output_type": "stream",
     "text": [
      "    junk    bar\n",
      "0  chips  snack\n"
     ]
    }
   ],
   "source": [
    "a = pd.DataFrame({'junk': ['chips']}); a['bar'] = 'snack'; print(a)"
   ]
  },
  {
   "cell_type": "code",
   "execution_count": 3,
   "metadata": {},
   "outputs": [
    {
     "name": "stdout",
     "output_type": "stream",
     "text": [
      "     junk    bar\n",
      "0   chips  snack\n",
      "1  sweets  snack\n"
     ]
    }
   ],
   "source": [
    "a = pd.DataFrame({'junk': ['chips', 'sweets']}); a['bar'] = 'snack'; print(a)"
   ]
  },
  {
   "cell_type": "markdown",
   "metadata": {},
   "source": [
    "a['bar'] = 'snack'<br>\n",
    "is equivalent to<br>\n",
    "a['bar'] = ['snack'] * len(a)<br>\n",
    "as shown below"
   ]
  },
  {
   "cell_type": "code",
   "execution_count": 4,
   "metadata": {},
   "outputs": [
    {
     "name": "stdout",
     "output_type": "stream",
     "text": [
      "Empty DataFrame\n",
      "Columns: [bar]\n",
      "Index: []\n"
     ]
    }
   ],
   "source": [
    "b = pd.DataFrame(); b['bar'] = ['snack']*len(b); print(b)"
   ]
  },
  {
   "cell_type": "code",
   "execution_count": 5,
   "metadata": {},
   "outputs": [
    {
     "name": "stdout",
     "output_type": "stream",
     "text": [
      "    junk    bar\n",
      "0  chips  snack\n"
     ]
    }
   ],
   "source": [
    "b = pd.DataFrame({'junk': ['chips']}); b['bar'] = ['snack']*len(b); print(b)"
   ]
  },
  {
   "cell_type": "code",
   "execution_count": 6,
   "metadata": {},
   "outputs": [
    {
     "name": "stdout",
     "output_type": "stream",
     "text": [
      "     junk    bar\n",
      "0   chips  snack\n",
      "1  sweets  snack\n"
     ]
    }
   ],
   "source": [
    "b = pd.DataFrame({'junk': ['chips', 'sweets']}); b['bar'] = ['snack']*len(b); print(b)"
   ]
  }
 ],
 "metadata": {
  "kernelspec": {
   "display_name": "Python 3",
   "language": "python",
   "name": "python3"
  },
  "language_info": {
   "codemirror_mode": {
    "name": "ipython",
    "version": 3
   },
   "file_extension": ".py",
   "mimetype": "text/x-python",
   "name": "python",
   "nbconvert_exporter": "python",
   "pygments_lexer": "ipython3",
   "version": "3.6.6"
  }
 },
 "nbformat": 4,
 "nbformat_minor": 2
}
