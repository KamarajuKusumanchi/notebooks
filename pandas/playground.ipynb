{
 "cells": [
  {
   "cell_type": "markdown",
   "metadata": {},
   "source": [
    "An irrelevant notebook where I experiment on random stuff"
   ]
  },
  {
   "cell_type": "code",
   "execution_count": 10,
   "metadata": {},
   "outputs": [
    {
     "name": "stdout",
     "output_type": "stream",
     "text": [
      "     A      B         C         D         E\n",
      "0  foo    one  0.496714 -0.469474 -1.012831\n",
      "1  bar    one -0.138264  0.542560  0.314247\n",
      "2  foo    two  0.647689 -0.463418 -0.908024\n",
      "3  bar  three  1.523030 -0.465730 -1.412304\n",
      "4  foo    two -0.234153  0.241962  1.465649\n",
      "5  bar    two -0.234137 -1.913280 -0.225776\n",
      "6  foo    one  1.579213 -1.724918  0.067528\n",
      "7  foo  three  0.767435 -0.562288 -1.424748\n"
     ]
    }
   ],
   "source": [
    "import numpy as np\n",
    "import pandas as pd\n",
    "\n",
    "np.random.seed(42)\n",
    "df = pd.DataFrame({'A' : ['foo', 'bar', 'foo', 'bar',\n",
    "                          'foo', 'bar', 'foo', 'foo'],\n",
    "                   'B' : ['one', 'one', 'two', 'three',\n",
    "                          'two', 'two', 'one', 'three'],\n",
    "                   'C' : np.random.randn(8),\n",
    "                   'D' : np.random.randn(8),\n",
    "                   'E' : np.random.randn(8)})\n",
    "print(df)"
   ]
  },
  {
   "cell_type": "code",
   "execution_count": 4,
   "metadata": {},
   "outputs": [
    {
     "data": {
      "text/html": [
       "<div>\n",
       "<style scoped>\n",
       "    .dataframe tbody tr th:only-of-type {\n",
       "        vertical-align: middle;\n",
       "    }\n",
       "\n",
       "    .dataframe tbody tr th {\n",
       "        vertical-align: top;\n",
       "    }\n",
       "\n",
       "    .dataframe thead th {\n",
       "        text-align: right;\n",
       "    }\n",
       "</style>\n",
       "<table border=\"1\" class=\"dataframe\">\n",
       "  <thead>\n",
       "    <tr style=\"text-align: right;\">\n",
       "      <th></th>\n",
       "      <th>B</th>\n",
       "      <th>D</th>\n",
       "    </tr>\n",
       "  </thead>\n",
       "  <tbody>\n",
       "    <tr>\n",
       "      <th>0</th>\n",
       "      <td>one</td>\n",
       "      <td>-0.469474</td>\n",
       "    </tr>\n",
       "    <tr>\n",
       "      <th>1</th>\n",
       "      <td>one</td>\n",
       "      <td>0.542560</td>\n",
       "    </tr>\n",
       "    <tr>\n",
       "      <th>2</th>\n",
       "      <td>two</td>\n",
       "      <td>-0.463418</td>\n",
       "    </tr>\n",
       "    <tr>\n",
       "      <th>3</th>\n",
       "      <td>three</td>\n",
       "      <td>-0.465730</td>\n",
       "    </tr>\n",
       "  </tbody>\n",
       "</table>\n",
       "</div>"
      ],
      "text/plain": [
       "       B         D\n",
       "0    one -0.469474\n",
       "1    one  0.542560\n",
       "2    two -0.463418\n",
       "3  three -0.465730"
      ]
     },
     "execution_count": 4,
     "metadata": {},
     "output_type": "execute_result"
    }
   ],
   "source": [
    "df.loc[0:3, ['B', 'D']]"
   ]
  },
  {
   "cell_type": "code",
   "execution_count": 5,
   "metadata": {},
   "outputs": [
    {
     "name": "stdout",
     "output_type": "stream",
     "text": [
      "   from        to            module                            node_desc  \\\n",
      "0   NaN  20180927     Long Term Irc                 AeJ Acqn Lev Finance   \n",
      "1   NaN  20180927     Long Term Irc                 AeJ Acqn Lev Finance   \n",
      "2   NaN  20180927     Long Term Irc                 AeJ Acqn Lev Finance   \n",
      "3   NaN  20180927     Long Term Irc  Japan Real Estate Mezzanine Finance   \n",
      "4   NaN  20180927     Long Term Irc  Japan Real Estate Mezzanine Finance   \n",
      "5   NaN  20180927  ALF Underwriting                                  NaN   \n",
      "\n",
      "    run  parent_node  \n",
      "0  True     649975.0  \n",
      "1  True     645438.0  \n",
      "2  True     649880.0  \n",
      "3  True     405797.0  \n",
      "4  True     244658.0  \n",
      "5  True          NaN  \n"
     ]
    }
   ],
   "source": [
    "wf = pd.read_csv('C:/users/kkusuman/x/junk.txt')\n",
    "print(wf)"
   ]
  },
  {
   "cell_type": "code",
   "execution_count": 7,
   "metadata": {},
   "outputs": [
    {
     "data": {
      "text/html": [
       "<div>\n",
       "<style scoped>\n",
       "    .dataframe tbody tr th:only-of-type {\n",
       "        vertical-align: middle;\n",
       "    }\n",
       "\n",
       "    .dataframe tbody tr th {\n",
       "        vertical-align: top;\n",
       "    }\n",
       "\n",
       "    .dataframe thead th {\n",
       "        text-align: right;\n",
       "    }\n",
       "</style>\n",
       "<table border=\"1\" class=\"dataframe\">\n",
       "  <thead>\n",
       "    <tr style=\"text-align: right;\">\n",
       "      <th></th>\n",
       "      <th></th>\n",
       "      <th></th>\n",
       "      <th>parent_node</th>\n",
       "    </tr>\n",
       "    <tr>\n",
       "      <th>to</th>\n",
       "      <th>module</th>\n",
       "      <th>run</th>\n",
       "      <th></th>\n",
       "    </tr>\n",
       "  </thead>\n",
       "  <tbody>\n",
       "    <tr>\n",
       "      <th rowspan=\"2\" valign=\"top\">20180927</th>\n",
       "      <th>ALF Underwriting</th>\n",
       "      <th>True</th>\n",
       "      <td>(nan,)</td>\n",
       "    </tr>\n",
       "    <tr>\n",
       "      <th>Long Term Irc</th>\n",
       "      <th>True</th>\n",
       "      <td>(649975.0, 645438.0, 649880.0, 405797.0, 24465...</td>\n",
       "    </tr>\n",
       "  </tbody>\n",
       "</table>\n",
       "</div>"
      ],
      "text/plain": [
       "                                                                      parent_node\n",
       "to       module           run                                                    \n",
       "20180927 ALF Underwriting True                                             (nan,)\n",
       "         Long Term Irc    True  (649975.0, 645438.0, 649880.0, 405797.0, 24465..."
      ]
     },
     "execution_count": 7,
     "metadata": {},
     "output_type": "execute_result"
    }
   ],
   "source": [
    "wf.groupby(by=['to', 'module', 'run']).agg({'parent_node': lambda x: tuple(x)})"
   ]
  },
  {
   "cell_type": "code",
   "execution_count": 8,
   "metadata": {},
   "outputs": [
    {
     "data": {
      "text/html": [
       "<div>\n",
       "<style scoped>\n",
       "    .dataframe tbody tr th:only-of-type {\n",
       "        vertical-align: middle;\n",
       "    }\n",
       "\n",
       "    .dataframe tbody tr th {\n",
       "        vertical-align: top;\n",
       "    }\n",
       "\n",
       "    .dataframe thead th {\n",
       "        text-align: right;\n",
       "    }\n",
       "</style>\n",
       "<table border=\"1\" class=\"dataframe\">\n",
       "  <thead>\n",
       "    <tr style=\"text-align: right;\">\n",
       "      <th></th>\n",
       "      <th></th>\n",
       "      <th></th>\n",
       "      <th>parent_node</th>\n",
       "    </tr>\n",
       "    <tr>\n",
       "      <th>to</th>\n",
       "      <th>module</th>\n",
       "      <th>run</th>\n",
       "      <th></th>\n",
       "    </tr>\n",
       "  </thead>\n",
       "  <tbody>\n",
       "    <tr>\n",
       "      <th rowspan=\"2\" valign=\"top\">20180927</th>\n",
       "      <th>ALF Underwriting</th>\n",
       "      <th>True</th>\n",
       "      <td>[nan]</td>\n",
       "    </tr>\n",
       "    <tr>\n",
       "      <th>Long Term Irc</th>\n",
       "      <th>True</th>\n",
       "      <td>[649975.0, 645438.0, 649880.0, 405797.0, 24465...</td>\n",
       "    </tr>\n",
       "  </tbody>\n",
       "</table>\n",
       "</div>"
      ],
      "text/plain": [
       "                                                                      parent_node\n",
       "to       module           run                                                    \n",
       "20180927 ALF Underwriting True                                              [nan]\n",
       "         Long Term Irc    True  [649975.0, 645438.0, 649880.0, 405797.0, 24465..."
      ]
     },
     "execution_count": 8,
     "metadata": {},
     "output_type": "execute_result"
    }
   ],
   "source": [
    "wf.groupby(by=['to', 'module', 'run']).agg({'parent_node': lambda x: list(x)})"
   ]
  },
  {
   "cell_type": "code",
   "execution_count": 9,
   "metadata": {},
   "outputs": [
    {
     "data": {
      "text/plain": [
       "'0.23.3'"
      ]
     },
     "execution_count": 9,
     "metadata": {},
     "output_type": "execute_result"
    }
   ],
   "source": [
    "pd.__version__"
   ]
  },
  {
   "cell_type": "code",
   "execution_count": 11,
   "metadata": {},
   "outputs": [
    {
     "name": "stdout",
     "output_type": "stream",
     "text": [
      "     A      B         C         D         E\n",
      "0  foo    one  0.496714 -0.469474 -1.012831\n",
      "1  bar    one -0.138264  0.542560  0.314247\n",
      "2  foo    two  0.647689 -0.463418 -0.908024\n",
      "3  bar  three  1.523030 -0.465730 -1.412304\n",
      "4  foo    two -0.234153  0.241962  1.465649\n",
      "5  bar    two -0.234137 -1.913280 -0.225776\n",
      "6  foo    one  1.579213 -1.724918  0.067528\n",
      "7  foo  three  0.767435 -0.562288 -1.424748\n"
     ]
    }
   ],
   "source": [
    "# Add two columns of dataframes\n",
    "\n",
    "import numpy as np\n",
    "import pandas as pd\n",
    "\n",
    "np.random.seed(42)\n",
    "df = pd.DataFrame({'A' : ['foo', 'bar', 'foo', 'bar',\n",
    "                          'foo', 'bar', 'foo', 'foo'],\n",
    "                   'B' : ['one', 'one', 'two', 'three',\n",
    "                          'two', 'two', 'one', 'three'],\n",
    "                   'C' : np.random.randn(8),\n",
    "                   'D' : np.random.randn(8),\n",
    "                   'E' : np.random.randn(8)})\n",
    "print(df)"
   ]
  },
  {
   "cell_type": "code",
   "execution_count": 19,
   "metadata": {},
   "outputs": [
    {
     "name": "stdout",
     "output_type": "stream",
     "text": [
      "     A      B         C         D         E                 F  \\\n",
      "0  foo    one  0.496714 -0.469474 -1.012831    prefix-foo-one   \n",
      "1  bar    one -0.138264  0.542560  0.314247    prefix-bar-one   \n",
      "2  foo    two  0.647689 -0.463418 -0.908024    prefix-foo-two   \n",
      "3  bar  three  1.523030 -0.465730 -1.412304  prefix-bar-three   \n",
      "4  foo    two -0.234153  0.241962  1.465649    prefix-foo-two   \n",
      "5  bar    two -0.234137 -1.913280 -0.225776    prefix-bar-two   \n",
      "6  foo    one  1.579213 -1.724918  0.067528    prefix-foo-one   \n",
      "7  foo  three  0.767435 -0.562288 -1.424748  prefix-foo-three   \n",
      "\n",
      "                    G                        H  \n",
      "0  foo-0.469474385935   foo-0.4694743859349521  \n",
      "1   bar0.542560043586    bar0.5425600435859647  \n",
      "2  foo-0.463417692812  foo-0.46341769281246226  \n",
      "3   bar-0.46572975357  bar-0.46572975357025687  \n",
      "4   foo0.241962271566   foo0.24196227156603412  \n",
      "5   bar-1.91328024466    bar-1.913280244657798  \n",
      "6   foo-1.72491783251   foo-1.7249178325130328  \n",
      "7  foo-0.562287529241   foo-0.5622875292409727  \n"
     ]
    }
   ],
   "source": [
    "df['F'] = 'prefix-' + df['A'] + '-' + df['B']\n",
    "df['G'] = df['A'] + df['D'].astype(str)\n",
    "df['H'] = df['A'] + df['D'].map(str)\n",
    "print(df)"
   ]
  }
 ],
 "metadata": {
  "kernelspec": {
   "display_name": "Python 3",
   "language": "python",
   "name": "python3"
  },
  "language_info": {
   "codemirror_mode": {
    "name": "ipython",
    "version": 3
   },
   "file_extension": ".py",
   "mimetype": "text/x-python",
   "name": "python",
   "nbconvert_exporter": "python",
   "pygments_lexer": "ipython3",
   "version": "3.6.6"
  }
 },
 "nbformat": 4,
 "nbformat_minor": 2
}
