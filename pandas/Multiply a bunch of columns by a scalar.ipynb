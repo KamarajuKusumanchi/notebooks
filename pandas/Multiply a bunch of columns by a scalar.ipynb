{
 "cells": [
  {
   "cell_type": "code",
   "execution_count": 1,
   "metadata": {},
   "outputs": [
    {
     "name": "stdout",
     "output_type": "stream",
     "text": [
      "     A      B         C         D         E\n",
      "0  foo    one -0.887645 -0.859474  1.902382\n",
      "1  bar    one -0.436660 -0.012504  1.435942\n",
      "2  foo    two -0.859956  0.497301 -1.227739\n",
      "3  bar  three  0.023629 -0.193711  0.594898\n",
      "4  foo    two -1.556718  0.150398  0.157721\n",
      "5  bar    two  1.721617  0.951531 -1.335153\n",
      "6  foo    one  1.944896 -0.472317  1.169228\n",
      "7  foo  three -0.748999 -1.348524 -1.071724\n"
     ]
    }
   ],
   "source": [
    "import numpy as np\n",
    "import pandas as pd\n",
    "\n",
    "df = pd.DataFrame({'A' : ['foo', 'bar', 'foo', 'bar',\n",
    "                          'foo', 'bar', 'foo', 'foo'],\n",
    "                   'B' : ['one', 'one', 'two', 'three',\n",
    "                          'two', 'two', 'one', 'three'],\n",
    "                   'C' : np.random.randn(8),\n",
    "                   'D' : np.random.randn(8),\n",
    "                   'E' : np.random.randn(8)})\n",
    "print(df)"
   ]
  },
  {
   "cell_type": "code",
   "execution_count": 2,
   "metadata": {},
   "outputs": [
    {
     "name": "stdout",
     "output_type": "stream",
     "text": [
      "     A      B         C         D         E\n",
      "0  foo    one  0.887645  0.859474  1.902382\n",
      "1  bar    one  0.436660  0.012504  1.435942\n",
      "2  foo    two  0.859956 -0.497301 -1.227739\n",
      "3  bar  three -0.023629  0.193711  0.594898\n",
      "4  foo    two  1.556718 -0.150398  0.157721\n",
      "5  bar    two -1.721617 -0.951531 -1.335153\n",
      "6  foo    one -1.944896  0.472317  1.169228\n",
      "7  foo  three  0.748999  1.348524 -1.071724\n"
     ]
    }
   ],
   "source": [
    "df.loc[:,['D','C']] *= -1\n",
    "print(df)"
   ]
  }
 ],
 "metadata": {
  "kernelspec": {
   "display_name": "Python 3",
   "language": "python",
   "name": "python3"
  },
  "language_info": {
   "codemirror_mode": {
    "name": "ipython",
    "version": 3
   },
   "file_extension": ".py",
   "mimetype": "text/x-python",
   "name": "python",
   "nbconvert_exporter": "python",
   "pygments_lexer": "ipython3",
   "version": "3.6.6"
  }
 },
 "nbformat": 4,
 "nbformat_minor": 2
}
