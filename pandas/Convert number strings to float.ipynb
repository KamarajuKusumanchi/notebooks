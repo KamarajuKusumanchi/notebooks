{
 "cells": [
  {
   "cell_type": "code",
   "execution_count": 1,
   "metadata": {},
   "outputs": [
    {
     "name": "stdout",
     "output_type": "stream",
     "text": [
      "            col\n",
      "0    123,456.78\n",
      "1  (123,456.78)\n",
      "col    object\n",
      "dtype: object\n"
     ]
    }
   ],
   "source": [
    "# Idea here is to convert number strings such as 123,456.78 to 123456.78\n",
    "# and (123,456.78) to -123456.78\n",
    "\n",
    "import pandas as pd\n",
    "df = pd.DataFrame({'col': ['123,456.78', '(123,456.78)']})\n",
    "print(df)\n",
    "print(df.dtypes)"
   ]
  },
  {
   "cell_type": "code",
   "execution_count": 2,
   "metadata": {},
   "outputs": [
    {
     "name": "stdout",
     "output_type": "stream",
     "text": [
      "         col\n",
      "0  123456.78\n",
      "1 -123456.78\n",
      "col    float64\n",
      "dtype: object\n"
     ]
    }
   ],
   "source": [
    "df['col'] = df['col'].replace( '[,)]', '', regex=True)\\\n",
    "                     .replace( '[(]', '-', regex=True)\\\n",
    "                     .astype(float)\n",
    "print(df)\n",
    "print(df.dtypes)"
   ]
  }
 ],
 "metadata": {
  "kernelspec": {
   "display_name": "Python 3",
   "language": "python",
   "name": "python3"
  },
  "language_info": {
   "codemirror_mode": {
    "name": "ipython",
    "version": 3
   },
   "file_extension": ".py",
   "mimetype": "text/x-python",
   "name": "python",
   "nbconvert_exporter": "python",
   "pygments_lexer": "ipython3",
   "version": "3.6.8"
  }
 },
 "nbformat": 4,
 "nbformat_minor": 2
}
