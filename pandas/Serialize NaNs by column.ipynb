{
 "cells": [
  {
   "cell_type": "markdown",
   "metadata": {},
   "source": [
    "tags | replace missing values with a serial number, replace missing values with a sequence, dataframe fillna with sequence, dataframe fill nan values with a range, replace nan with a serial number"
   ]
  },
  {
   "cell_type": "code",
   "execution_count": 1,
   "metadata": {},
   "outputs": [
    {
     "name": "stdout",
     "output_type": "stream",
     "text": [
      "      a     b     c\n",
      "2  71.0   NaN  51.0\n",
      "4  72.0  81.0  52.0\n",
      "6   NaN   NaN   NaN\n",
      "0  73.0  82.0   NaN\n",
      "1   NaN  83.0   NaN\n",
      "3   NaN  84.0  53.0\n",
      "5  74.0  85.0   NaN\n"
     ]
    }
   ],
   "source": [
    "import pandas as pd\n",
    "import numpy as np\n",
    "\n",
    "df = pd.DataFrame({'a': [71,72,np.nan,73,np.nan,np.nan,74],\n",
    "                   'b': [np.nan,81,np.nan,82,83,84,85],\n",
    "                   'c': [51, 52, np.nan, np.nan, np.nan, 53, np.nan]},\n",
    "                  index=[2,4,6,0,1,3,5])\n",
    "df_orig = df.copy()\n",
    "print(df)"
   ]
  },
  {
   "cell_type": "code",
   "execution_count": 2,
   "metadata": {},
   "outputs": [
    {
     "name": "stdout",
     "output_type": "stream",
     "text": [
      "2    False\n",
      "4    False\n",
      "6     True\n",
      "0    False\n",
      "1     True\n",
      "3     True\n",
      "5    False\n",
      "Name: a, dtype: bool\n"
     ]
    }
   ],
   "source": [
    "mask = df['a'].isna()\n",
    "print(mask)"
   ]
  },
  {
   "cell_type": "code",
   "execution_count": 3,
   "metadata": {},
   "outputs": [
    {
     "name": "stdout",
     "output_type": "stream",
     "text": [
      "3\n"
     ]
    }
   ],
   "source": [
    "print(mask.sum())"
   ]
  },
  {
   "cell_type": "code",
   "execution_count": 4,
   "metadata": {},
   "outputs": [
    {
     "data": {
      "text/html": [
       "<div>\n",
       "<style scoped>\n",
       "    .dataframe tbody tr th:only-of-type {\n",
       "        vertical-align: middle;\n",
       "    }\n",
       "\n",
       "    .dataframe tbody tr th {\n",
       "        vertical-align: top;\n",
       "    }\n",
       "\n",
       "    .dataframe thead th {\n",
       "        text-align: right;\n",
       "    }\n",
       "</style>\n",
       "<table border=\"1\" class=\"dataframe\">\n",
       "  <thead>\n",
       "    <tr style=\"text-align: right;\">\n",
       "      <th></th>\n",
       "      <th>a</th>\n",
       "      <th>b</th>\n",
       "      <th>c</th>\n",
       "    </tr>\n",
       "  </thead>\n",
       "  <tbody>\n",
       "    <tr>\n",
       "      <th>2</th>\n",
       "      <td>71.0</td>\n",
       "      <td>NaN</td>\n",
       "      <td>51.0</td>\n",
       "    </tr>\n",
       "    <tr>\n",
       "      <th>4</th>\n",
       "      <td>72.0</td>\n",
       "      <td>81.0</td>\n",
       "      <td>52.0</td>\n",
       "    </tr>\n",
       "    <tr>\n",
       "      <th>6</th>\n",
       "      <td>1.0</td>\n",
       "      <td>NaN</td>\n",
       "      <td>NaN</td>\n",
       "    </tr>\n",
       "    <tr>\n",
       "      <th>0</th>\n",
       "      <td>73.0</td>\n",
       "      <td>82.0</td>\n",
       "      <td>NaN</td>\n",
       "    </tr>\n",
       "    <tr>\n",
       "      <th>1</th>\n",
       "      <td>2.0</td>\n",
       "      <td>83.0</td>\n",
       "      <td>NaN</td>\n",
       "    </tr>\n",
       "    <tr>\n",
       "      <th>3</th>\n",
       "      <td>3.0</td>\n",
       "      <td>84.0</td>\n",
       "      <td>53.0</td>\n",
       "    </tr>\n",
       "    <tr>\n",
       "      <th>5</th>\n",
       "      <td>74.0</td>\n",
       "      <td>85.0</td>\n",
       "      <td>NaN</td>\n",
       "    </tr>\n",
       "  </tbody>\n",
       "</table>\n",
       "</div>"
      ],
      "text/plain": [
       "      a     b     c\n",
       "2  71.0   NaN  51.0\n",
       "4  72.0  81.0  52.0\n",
       "6   1.0   NaN   NaN\n",
       "0  73.0  82.0   NaN\n",
       "1   2.0  83.0   NaN\n",
       "3   3.0  84.0  53.0\n",
       "5  74.0  85.0   NaN"
      ]
     },
     "execution_count": 4,
     "metadata": {},
     "output_type": "execute_result"
    }
   ],
   "source": [
    "df.loc[mask, 'a'] = range(1,1+mask.sum())\n",
    "df"
   ]
  },
  {
   "cell_type": "code",
   "execution_count": 5,
   "metadata": {},
   "outputs": [
    {
     "name": "stdout",
     "output_type": "stream",
     "text": [
      "       a      b      c\n",
      "2  False   True  False\n",
      "4  False  False  False\n",
      "6   True   True   True\n",
      "0  False  False   True\n",
      "1   True  False   True\n",
      "3   True  False  False\n",
      "5  False  False   True\n"
     ]
    }
   ],
   "source": [
    "df = df_orig.copy()\n",
    "mask = df.isna()\n",
    "print(mask)"
   ]
  },
  {
   "cell_type": "code",
   "execution_count": 6,
   "metadata": {},
   "outputs": [
    {
     "data": {
      "text/plain": [
       "a    3\n",
       "b    2\n",
       "c    4\n",
       "dtype: int64"
      ]
     },
     "execution_count": 6,
     "metadata": {},
     "output_type": "execute_result"
    }
   ],
   "source": [
    "mask.sum()"
   ]
  },
  {
   "cell_type": "code",
   "execution_count": 7,
   "metadata": {},
   "outputs": [],
   "source": [
    "def serialize_nans_by_column(df, cols, inplace):\n",
    "    mask = df[cols].isna()\n",
    "    if not inplace:\n",
    "        df_new = df.copy()\n",
    "    else:\n",
    "        df_new = df\n",
    "    for col in cols:\n",
    "        df_new.loc[mask[col], col] = range(1,1+mask[col].sum())\n",
    "    return df_new\n",
    "    "
   ]
  },
  {
   "cell_type": "code",
   "execution_count": 8,
   "metadata": {},
   "outputs": [
    {
     "name": "stdout",
     "output_type": "stream",
     "text": [
      "      a     b     c\n",
      "2  71.0   NaN  51.0\n",
      "4  72.0  81.0  52.0\n",
      "6   NaN   NaN   NaN\n",
      "0  73.0  82.0   NaN\n",
      "1   NaN  83.0   NaN\n",
      "3   NaN  84.0  53.0\n",
      "5  74.0  85.0   NaN\n",
      "      a     b     c\n",
      "2  71.0   NaN  51.0\n",
      "4  72.0  81.0  52.0\n",
      "6   1.0   NaN   1.0\n",
      "0  73.0  82.0   2.0\n",
      "1   2.0  83.0   3.0\n",
      "3   3.0  84.0  53.0\n",
      "5  74.0  85.0   4.0\n",
      "      a     b     c\n",
      "2  71.0   NaN  51.0\n",
      "4  72.0  81.0  52.0\n",
      "6   NaN   NaN   NaN\n",
      "0  73.0  82.0   NaN\n",
      "1   NaN  83.0   NaN\n",
      "3   NaN  84.0  53.0\n",
      "5  74.0  85.0   NaN\n"
     ]
    }
   ],
   "source": [
    "# Test with inplace=False\n",
    "df = df_orig.copy()\n",
    "print(df)\n",
    "df_new = serialize_nans_by_column(df, ['a', 'c'], inplace=False)\n",
    "print(df_new)\n",
    "print(df)"
   ]
  },
  {
   "cell_type": "code",
   "execution_count": 9,
   "metadata": {},
   "outputs": [
    {
     "name": "stdout",
     "output_type": "stream",
     "text": [
      "      a     b     c\n",
      "2  71.0   NaN  51.0\n",
      "4  72.0  81.0  52.0\n",
      "6   NaN   NaN   NaN\n",
      "0  73.0  82.0   NaN\n",
      "1   NaN  83.0   NaN\n",
      "3   NaN  84.0  53.0\n",
      "5  74.0  85.0   NaN\n",
      "      a     b     c\n",
      "2  71.0   NaN  51.0\n",
      "4  72.0  81.0  52.0\n",
      "6   1.0   NaN   1.0\n",
      "0  73.0  82.0   2.0\n",
      "1   2.0  83.0   3.0\n",
      "3   3.0  84.0  53.0\n",
      "5  74.0  85.0   4.0\n",
      "      a     b     c\n",
      "2  71.0   NaN  51.0\n",
      "4  72.0  81.0  52.0\n",
      "6   1.0   NaN   1.0\n",
      "0  73.0  82.0   2.0\n",
      "1   2.0  83.0   3.0\n",
      "3   3.0  84.0  53.0\n",
      "5  74.0  85.0   4.0\n"
     ]
    }
   ],
   "source": [
    "# Test with inplace=False\n",
    "df = df_orig.copy()\n",
    "print(df)\n",
    "df_new = serialize_nans_by_column(df, ['a', 'c'], inplace=True)\n",
    "print(df_new)\n",
    "print(df)"
   ]
  }
 ],
 "metadata": {
  "kernelspec": {
   "display_name": "Python 3",
   "language": "python",
   "name": "python3"
  },
  "language_info": {
   "codemirror_mode": {
    "name": "ipython",
    "version": 3
   },
   "file_extension": ".py",
   "mimetype": "text/x-python",
   "name": "python",
   "nbconvert_exporter": "python",
   "pygments_lexer": "ipython3",
   "version": "3.8.3"
  }
 },
 "nbformat": 4,
 "nbformat_minor": 4
}
