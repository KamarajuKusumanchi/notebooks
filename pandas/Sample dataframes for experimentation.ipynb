{
 "cells": [
  {
   "cell_type": "code",
   "execution_count": 1,
   "metadata": {},
   "outputs": [
    {
     "name": "stdout",
     "output_type": "stream",
     "text": [
      "     A      B         C         D         E\n",
      "0  foo    one  0.496714 -0.469474 -1.012831\n",
      "1  bar    one -0.138264  0.542560  0.314247\n",
      "2  foo    two  0.647689 -0.463418 -0.908024\n",
      "3  bar  three  1.523030 -0.465730 -1.412304\n",
      "4  foo    two -0.234153  0.241962  1.465649\n",
      "5  bar    two -0.234137 -1.913280 -0.225776\n",
      "6  foo    one  1.579213 -1.724918  0.067528\n",
      "7  foo  three  0.767435 -0.562288 -1.424748\n"
     ]
    }
   ],
   "source": [
    "# features | contains strings, floats, bools\n",
    "\n",
    "import numpy as np\n",
    "import pandas as pd\n",
    "\n",
    "np.random.seed(42)\n",
    "df = pd.DataFrame({'A' : ['foo', 'bar', 'foo', 'bar',\n",
    "                          'foo', 'bar', 'foo', 'foo'],\n",
    "                   'B' : ['one', 'one', 'two', 'three',\n",
    "                          'two', 'two', 'one', 'three'],\n",
    "                   'C' : np.random.randn(8),\n",
    "                   'D' : np.random.randn(8),\n",
    "                   'E' : np.random.randn(8),\n",
    "                   'F' : [None, True, None, None, None, True, None, True]\n",
    "                  })\n",
    "print(df)"
   ]
  },
  {
   "cell_type": "code",
   "execution_count": 2,
   "metadata": {},
   "outputs": [
    {
     "name": "stdout",
     "output_type": "stream",
     "text": [
      "          C         D         E\n",
      "0  0.496714 -0.469474 -1.012831\n",
      "1 -0.138264  0.542560  0.314247\n",
      "2  0.647689 -0.463418 -0.908024\n",
      "3  1.523030 -0.465730 -1.412304\n",
      "4 -0.234153  0.241962  1.465649\n",
      "5 -0.234137 -1.913280 -0.225776\n",
      "6  1.579213 -1.724918  0.067528\n",
      "7  0.767435 -0.562288 -1.424748\n"
     ]
    }
   ],
   "source": [
    "# features | number of entries parameterized\n",
    "\n",
    "import numpy as np\n",
    "import pandas as pd\n",
    "\n",
    "np.random.seed(42)\n",
    "N=8\n",
    "df = pd.DataFrame({'C' : np.random.randn(N),\n",
    "                   'D' : np.random.randn(N),\n",
    "                   'E' : np.random.randn(N)})\n",
    "print(df)"
   ]
  },
  {
   "cell_type": "code",
   "execution_count": 3,
   "metadata": {},
   "outputs": [
    {
     "name": "stdout",
     "output_type": "stream",
     "text": [
      "   group param\n",
      "0      1     a\n",
      "1      1     a\n",
      "2      2     b\n",
      "3      3   NaN\n",
      "4      3     a\n",
      "5      3     a\n",
      "6      4   NaN\n"
     ]
    }
   ],
   "source": [
    "import numpy as np\n",
    "import pandas as pd\n",
    "\n",
    "df = pd.DataFrame({\n",
    "    'group': [1, 1, 2, 3, 3, 3, 4],\n",
    "    'param': ['a', 'a', 'b', np.nan, 'a', 'a', np.nan]\n",
    "})\n",
    "print(df)"
   ]
  },
  {
   "cell_type": "code",
   "execution_count": 4,
   "metadata": {},
   "outputs": [
    {
     "name": "stdout",
     "output_type": "stream",
     "text": [
      "      sheet  table\n",
      "0     mixed  group\n",
      "1     mixed   desc\n",
      "2  separate  group\n",
      "3  separate   desc\n"
     ]
    }
   ],
   "source": [
    "structure = pd.DataFrame([{'sheet':'mixed',\n",
    "                           'table':'group'},\n",
    "                          {'sheet':'mixed',\n",
    "                           'table':'desc'},\n",
    "                          {'sheet':'separate',\n",
    "                           'table':'group'},\n",
    "                          {'sheet':'separate',\n",
    "                           'table':'desc'}])\n",
    "print(structure)"
   ]
  },
  {
   "cell_type": "code",
   "execution_count": 5,
   "metadata": {},
   "outputs": [
    {
     "name": "stdout",
     "output_type": "stream",
     "text": [
      "             A   B   C\n",
      "2017-01-31  A0  B0  C0\n",
      "2017-02-28  A1  B1  C1\n",
      "2017-03-31  A2  B2  C2\n"
     ]
    }
   ],
   "source": [
    "df1 = pd.DataFrame({'A':['A0','A1','A2'],\n",
    "                    'B':['B0','B1','B2'],\n",
    "                    'C':['C0','C1','C2']},\n",
    "                   index=pd.date_range('2017-01-01',periods=3, freq='M'))\n",
    "print(df1)"
   ]
  },
  {
   "cell_type": "code",
   "execution_count": 6,
   "metadata": {},
   "outputs": [
    {
     "name": "stdout",
     "output_type": "stream",
     "text": [
      "3.6.6 |Anaconda custom (64-bit)| (default, Jun 28 2018, 11:27:44) [MSC v.1900 64 bit (AMD64)]\n"
     ]
    }
   ],
   "source": [
    "import sys\n",
    "print(sys.version)"
   ]
  }
 ],
 "metadata": {
  "kernelspec": {
   "display_name": "Python 3",
   "language": "python",
   "name": "python3"
  },
  "language_info": {
   "codemirror_mode": {
    "name": "ipython",
    "version": 3
   },
   "file_extension": ".py",
   "mimetype": "text/x-python",
   "name": "python",
   "nbconvert_exporter": "python",
   "pygments_lexer": "ipython3",
   "version": "3.6.6"
  }
 },
 "nbformat": 4,
 "nbformat_minor": 2
}
