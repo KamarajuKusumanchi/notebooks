{
 "cells": [
  {
   "cell_type": "code",
   "execution_count": 1,
   "metadata": {
    "collapsed": false
   },
   "outputs": [
    {
     "name": "stdout",
     "output_type": "stream",
     "text": [
      "     A      B         C         D         E\n",
      "0  foo    one  0.095515  0.106426  0.621278\n",
      "1  bar    one -0.844675  0.154624  0.340555\n",
      "2  foo    two -1.599960  3.239029 -0.928218\n",
      "3  bar  three  0.740777  0.485040 -0.799254\n",
      "4  foo    two  0.413482  0.509494  0.555267\n",
      "5  bar    two -0.500350  0.361040 -0.215705\n",
      "6  foo    one  0.000766 -0.083699  0.865193\n",
      "7  foo  three -0.409833 -1.349829 -0.392974\n"
     ]
    }
   ],
   "source": [
    "import numpy as np\n",
    "import pandas as pd\n",
    "\n",
    "df = pd.DataFrame({'A' : ['foo', 'bar', 'foo', 'bar',\n",
    "                          'foo', 'bar', 'foo', 'foo'],\n",
    "                   'B' : ['one', 'one', 'two', 'three',\n",
    "                          'two', 'two', 'one', 'three'],\n",
    "                   'C' : np.random.randn(8),\n",
    "                   'D' : np.random.randn(8),\n",
    "                   'E' : np.random.randn(8)})\n",
    "print(df)"
   ]
  },
  {
   "cell_type": "code",
   "execution_count": 2,
   "metadata": {
    "collapsed": false
   },
   "outputs": [
    {
     "name": "stdout",
     "output_type": "stream",
     "text": [
      "   group param\n",
      "0      1     a\n",
      "1      1     a\n",
      "2      2     b\n",
      "3      3   NaN\n",
      "4      3     a\n",
      "5      3     a\n",
      "6      4   NaN\n"
     ]
    }
   ],
   "source": [
    "import numpy as np\n",
    "import pandas as pd\n",
    "\n",
    "df = pd.DataFrame({\n",
    "    'group': [1, 1, 2, 3, 3, 3, 4],\n",
    "    'param': ['a', 'a', 'b', np.nan, 'a', 'a', np.nan]\n",
    "})\n",
    "print(df)"
   ]
  },
  {
   "cell_type": "code",
   "execution_count": 3,
   "metadata": {
    "collapsed": false
   },
   "outputs": [
    {
     "name": "stdout",
     "output_type": "stream",
     "text": [
      "      sheet  table\n",
      "0     mixed  group\n",
      "1     mixed   desc\n",
      "2  separate  group\n",
      "3  separate   desc\n"
     ]
    }
   ],
   "source": [
    "structure = pd.DataFrame([{'sheet':'mixed',\n",
    "                           'table':'group'},\n",
    "                          {'sheet':'mixed',\n",
    "                           'table':'desc'},\n",
    "                          {'sheet':'separate',\n",
    "                           'table':'group'},\n",
    "                          {'sheet':'separate',\n",
    "                           'table':'desc'}])\n",
    "print(structure)"
   ]
  },
  {
   "cell_type": "code",
   "execution_count": 4,
   "metadata": {
    "collapsed": false
   },
   "outputs": [
    {
     "name": "stdout",
     "output_type": "stream",
     "text": [
      "             A   B   C\n",
      "2017-01-31  A0  B0  C0\n",
      "2017-02-28  A1  B1  C1\n",
      "2017-03-31  A2  B2  C2\n"
     ]
    }
   ],
   "source": [
    "df1 = pd.DataFrame({'A':['A0','A1','A2'],\n",
    "                    'B':['B0','B1','B2'],\n",
    "                    'C':['C0','C1','C2']},\n",
    "                   index=pd.date_range('2017-01-01',periods=3, freq='M'))\n",
    "print(df1)"
   ]
  },
  {
   "cell_type": "code",
   "execution_count": 5,
   "metadata": {
    "collapsed": false
   },
   "outputs": [
    {
     "name": "stdout",
     "output_type": "stream",
     "text": [
      "3.5.3 (default, Jan 19 2017, 14:11:04) \n",
      "[GCC 6.3.0 20170118]\n"
     ]
    }
   ],
   "source": [
    "import sys\n",
    "print(sys.version)"
   ]
  }
 ],
 "metadata": {
  "kernelspec": {
   "display_name": "Python 3",
   "language": "python",
   "name": "python3"
  },
  "language_info": {
   "codemirror_mode": {
    "name": "ipython",
    "version": 3
   },
   "file_extension": ".py",
   "mimetype": "text/x-python",
   "name": "python",
   "nbconvert_exporter": "python",
   "pygments_lexer": "ipython3",
   "version": "3.5.3"
  }
 },
 "nbformat": 4,
 "nbformat_minor": 2
}
