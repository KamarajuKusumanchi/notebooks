{
 "cells": [
  {
   "cell_type": "code",
   "execution_count": 1,
   "id": "00b93ae8",
   "metadata": {},
   "outputs": [],
   "source": [
    "import os\n",
    "import re\n",
    "import pandas as pd\n",
    " \n",
    "def count_files(top, pattern, list_files):\n",
    "  top = os.path.abspath(os.path.expanduser(top))\n",
    "  res = []\n",
    "  for root, dirs, files in os.walk(top):\n",
    "    name_space = os.path.relpath(root, top)\n",
    "    level = os.path.normpath(name_space).count(os.sep) + 1 if name_space != '.' else 0\n",
    "    matches = [file for file in files if re.search(pattern, file)]\n",
    "    if matches:\n",
    "      if list_files:\n",
    "        res.append((pattern, level, name_space, len(matches), matches))\n",
    "      else:\n",
    "        res.append((pattern, level, name_space, len(matches)))\n",
    "\n",
    "  if list_files:\n",
    "    df = pd.DataFrame(res, columns=['pattern', 'level', 'name_space', 'count', 'files'])\n",
    "  else:\n",
    "    df = pd.DataFrame(res, columns=['pattern', 'level', 'name_space', 'count'])\n",
    "  return df"
   ]
  },
  {
   "cell_type": "code",
   "execution_count": 2,
   "id": "f9ecd5fa",
   "metadata": {},
   "outputs": [],
   "source": [
    "# count the text files (i.e. those ending in .txt) in each subdirectory\n",
    "df = count_files(\".\", \"\\.txt\", False)"
   ]
  },
  {
   "cell_type": "code",
   "execution_count": 3,
   "id": "65c3c9c2",
   "metadata": {},
   "outputs": [
    {
     "data": {
      "text/html": [
       "<div>\n",
       "<style scoped>\n",
       "    .dataframe tbody tr th:only-of-type {\n",
       "        vertical-align: middle;\n",
       "    }\n",
       "\n",
       "    .dataframe tbody tr th {\n",
       "        vertical-align: top;\n",
       "    }\n",
       "\n",
       "    .dataframe thead th {\n",
       "        text-align: right;\n",
       "    }\n",
       "</style>\n",
       "<table border=\"1\" class=\"dataframe\">\n",
       "  <thead>\n",
       "    <tr style=\"text-align: right;\">\n",
       "      <th></th>\n",
       "      <th>pattern</th>\n",
       "      <th>level</th>\n",
       "      <th>name_space</th>\n",
       "      <th>count</th>\n",
       "    </tr>\n",
       "  </thead>\n",
       "  <tbody>\n",
       "    <tr>\n",
       "      <th>0</th>\n",
       "      <td>\\.txt</td>\n",
       "      <td>0</td>\n",
       "      <td>.</td>\n",
       "      <td>3</td>\n",
       "    </tr>\n",
       "    <tr>\n",
       "      <th>1</th>\n",
       "      <td>\\.txt</td>\n",
       "      <td>1</td>\n",
       "      <td>d1</td>\n",
       "      <td>2</td>\n",
       "    </tr>\n",
       "    <tr>\n",
       "      <th>2</th>\n",
       "      <td>\\.txt</td>\n",
       "      <td>2</td>\n",
       "      <td>d1/d2</td>\n",
       "      <td>2</td>\n",
       "    </tr>\n",
       "    <tr>\n",
       "      <th>3</th>\n",
       "      <td>\\.txt</td>\n",
       "      <td>3</td>\n",
       "      <td>d1/d2/d3</td>\n",
       "      <td>1</td>\n",
       "    </tr>\n",
       "  </tbody>\n",
       "</table>\n",
       "</div>"
      ],
      "text/plain": [
       "  pattern  level name_space  count\n",
       "0   \\.txt      0          .      3\n",
       "1   \\.txt      1         d1      2\n",
       "2   \\.txt      2      d1/d2      2\n",
       "3   \\.txt      3   d1/d2/d3      1"
      ]
     },
     "execution_count": 3,
     "metadata": {},
     "output_type": "execute_result"
    }
   ],
   "source": [
    "df"
   ]
  },
  {
   "cell_type": "code",
   "execution_count": 4,
   "id": "6b255279",
   "metadata": {},
   "outputs": [],
   "source": [
    "# To see what those files are\n",
    "df = count_files(\".\", \"\\.txt\", True)"
   ]
  },
  {
   "cell_type": "code",
   "execution_count": 5,
   "id": "eb04c13b",
   "metadata": {},
   "outputs": [
    {
     "data": {
      "text/html": [
       "<div>\n",
       "<style scoped>\n",
       "    .dataframe tbody tr th:only-of-type {\n",
       "        vertical-align: middle;\n",
       "    }\n",
       "\n",
       "    .dataframe tbody tr th {\n",
       "        vertical-align: top;\n",
       "    }\n",
       "\n",
       "    .dataframe thead th {\n",
       "        text-align: right;\n",
       "    }\n",
       "</style>\n",
       "<table border=\"1\" class=\"dataframe\">\n",
       "  <thead>\n",
       "    <tr style=\"text-align: right;\">\n",
       "      <th></th>\n",
       "      <th>pattern</th>\n",
       "      <th>level</th>\n",
       "      <th>name_space</th>\n",
       "      <th>count</th>\n",
       "      <th>files</th>\n",
       "    </tr>\n",
       "  </thead>\n",
       "  <tbody>\n",
       "    <tr>\n",
       "      <th>0</th>\n",
       "      <td>\\.txt</td>\n",
       "      <td>0</td>\n",
       "      <td>.</td>\n",
       "      <td>3</td>\n",
       "      <td>[f8.txt, f1.txt, f7.txt]</td>\n",
       "    </tr>\n",
       "    <tr>\n",
       "      <th>1</th>\n",
       "      <td>\\.txt</td>\n",
       "      <td>1</td>\n",
       "      <td>d1</td>\n",
       "      <td>2</td>\n",
       "      <td>[f6.txt, f2.txt]</td>\n",
       "    </tr>\n",
       "    <tr>\n",
       "      <th>2</th>\n",
       "      <td>\\.txt</td>\n",
       "      <td>2</td>\n",
       "      <td>d1/d2</td>\n",
       "      <td>2</td>\n",
       "      <td>[f4.txt, f3.txt]</td>\n",
       "    </tr>\n",
       "    <tr>\n",
       "      <th>3</th>\n",
       "      <td>\\.txt</td>\n",
       "      <td>3</td>\n",
       "      <td>d1/d2/d3</td>\n",
       "      <td>1</td>\n",
       "      <td>[f5.txt]</td>\n",
       "    </tr>\n",
       "  </tbody>\n",
       "</table>\n",
       "</div>"
      ],
      "text/plain": [
       "  pattern  level name_space  count                     files\n",
       "0   \\.txt      0          .      3  [f8.txt, f1.txt, f7.txt]\n",
       "1   \\.txt      1         d1      2          [f6.txt, f2.txt]\n",
       "2   \\.txt      2      d1/d2      2          [f4.txt, f3.txt]\n",
       "3   \\.txt      3   d1/d2/d3      1                  [f5.txt]"
      ]
     },
     "execution_count": 5,
     "metadata": {},
     "output_type": "execute_result"
    }
   ],
   "source": [
    "df"
   ]
  },
  {
   "cell_type": "code",
   "execution_count": 6,
   "id": "7649d390",
   "metadata": {},
   "outputs": [
    {
     "data": {
      "text/plain": [
       "8"
      ]
     },
     "execution_count": 6,
     "metadata": {},
     "output_type": "execute_result"
    }
   ],
   "source": [
    "# get the total number of files\n",
    "df['count'].sum()"
   ]
  },
  {
   "cell_type": "code",
   "execution_count": 7,
   "id": "a2e4ea8a",
   "metadata": {},
   "outputs": [],
   "source": [
    "# count files ending with .ipynb (ipython notebook files)\n",
    "df = count_files(\".\", \"\\.ipynb\", True)"
   ]
  },
  {
   "cell_type": "code",
   "execution_count": 8,
   "id": "da53810b",
   "metadata": {},
   "outputs": [
    {
     "data": {
      "text/html": [
       "<div>\n",
       "<style scoped>\n",
       "    .dataframe tbody tr th:only-of-type {\n",
       "        vertical-align: middle;\n",
       "    }\n",
       "\n",
       "    .dataframe tbody tr th {\n",
       "        vertical-align: top;\n",
       "    }\n",
       "\n",
       "    .dataframe thead th {\n",
       "        text-align: right;\n",
       "    }\n",
       "</style>\n",
       "<table border=\"1\" class=\"dataframe\">\n",
       "  <thead>\n",
       "    <tr style=\"text-align: right;\">\n",
       "      <th></th>\n",
       "      <th>pattern</th>\n",
       "      <th>level</th>\n",
       "      <th>name_space</th>\n",
       "      <th>count</th>\n",
       "      <th>files</th>\n",
       "    </tr>\n",
       "  </thead>\n",
       "  <tbody>\n",
       "    <tr>\n",
       "      <th>0</th>\n",
       "      <td>\\.ipynb</td>\n",
       "      <td>0</td>\n",
       "      <td>.</td>\n",
       "      <td>1</td>\n",
       "      <td>[count_files.ipynb]</td>\n",
       "    </tr>\n",
       "    <tr>\n",
       "      <th>1</th>\n",
       "      <td>\\.ipynb</td>\n",
       "      <td>1</td>\n",
       "      <td>.ipynb_checkpoints</td>\n",
       "      <td>1</td>\n",
       "      <td>[count_files-checkpoint.ipynb]</td>\n",
       "    </tr>\n",
       "  </tbody>\n",
       "</table>\n",
       "</div>"
      ],
      "text/plain": [
       "   pattern  level          name_space  count                           files\n",
       "0  \\.ipynb      0                   .      1             [count_files.ipynb]\n",
       "1  \\.ipynb      1  .ipynb_checkpoints      1  [count_files-checkpoint.ipynb]"
      ]
     },
     "execution_count": 8,
     "metadata": {},
     "output_type": "execute_result"
    }
   ],
   "source": [
    "df"
   ]
  },
  {
   "cell_type": "code",
   "execution_count": 9,
   "id": "f631ca29",
   "metadata": {},
   "outputs": [
    {
     "data": {
      "text/plain": [
       "2"
      ]
     },
     "execution_count": 9,
     "metadata": {},
     "output_type": "execute_result"
    }
   ],
   "source": [
    "df['count'].sum()"
   ]
  },
  {
   "cell_type": "code",
   "execution_count": 10,
   "id": "08a8093e",
   "metadata": {},
   "outputs": [],
   "source": [
    "# count all the files\n",
    "df = count_files(\".\", \".*\", False)"
   ]
  },
  {
   "cell_type": "code",
   "execution_count": 11,
   "id": "0a7178f7",
   "metadata": {},
   "outputs": [
    {
     "data": {
      "text/html": [
       "<div>\n",
       "<style scoped>\n",
       "    .dataframe tbody tr th:only-of-type {\n",
       "        vertical-align: middle;\n",
       "    }\n",
       "\n",
       "    .dataframe tbody tr th {\n",
       "        vertical-align: top;\n",
       "    }\n",
       "\n",
       "    .dataframe thead th {\n",
       "        text-align: right;\n",
       "    }\n",
       "</style>\n",
       "<table border=\"1\" class=\"dataframe\">\n",
       "  <thead>\n",
       "    <tr style=\"text-align: right;\">\n",
       "      <th></th>\n",
       "      <th>pattern</th>\n",
       "      <th>level</th>\n",
       "      <th>name_space</th>\n",
       "      <th>count</th>\n",
       "    </tr>\n",
       "  </thead>\n",
       "  <tbody>\n",
       "    <tr>\n",
       "      <th>0</th>\n",
       "      <td>.*</td>\n",
       "      <td>0</td>\n",
       "      <td>.</td>\n",
       "      <td>4</td>\n",
       "    </tr>\n",
       "    <tr>\n",
       "      <th>1</th>\n",
       "      <td>.*</td>\n",
       "      <td>1</td>\n",
       "      <td>.ipynb_checkpoints</td>\n",
       "      <td>1</td>\n",
       "    </tr>\n",
       "    <tr>\n",
       "      <th>2</th>\n",
       "      <td>.*</td>\n",
       "      <td>1</td>\n",
       "      <td>d1</td>\n",
       "      <td>2</td>\n",
       "    </tr>\n",
       "    <tr>\n",
       "      <th>3</th>\n",
       "      <td>.*</td>\n",
       "      <td>2</td>\n",
       "      <td>d1/d2</td>\n",
       "      <td>2</td>\n",
       "    </tr>\n",
       "    <tr>\n",
       "      <th>4</th>\n",
       "      <td>.*</td>\n",
       "      <td>3</td>\n",
       "      <td>d1/d2/d3</td>\n",
       "      <td>1</td>\n",
       "    </tr>\n",
       "  </tbody>\n",
       "</table>\n",
       "</div>"
      ],
      "text/plain": [
       "  pattern  level          name_space  count\n",
       "0      .*      0                   .      4\n",
       "1      .*      1  .ipynb_checkpoints      1\n",
       "2      .*      1                  d1      2\n",
       "3      .*      2               d1/d2      2\n",
       "4      .*      3            d1/d2/d3      1"
      ]
     },
     "execution_count": 11,
     "metadata": {},
     "output_type": "execute_result"
    }
   ],
   "source": [
    "df"
   ]
  },
  {
   "cell_type": "code",
   "execution_count": 12,
   "id": "10774af6",
   "metadata": {},
   "outputs": [
    {
     "data": {
      "text/plain": [
       "10"
      ]
     },
     "execution_count": 12,
     "metadata": {},
     "output_type": "execute_result"
    }
   ],
   "source": [
    "df['count'].sum()"
   ]
  }
 ],
 "metadata": {
  "kernelspec": {
   "display_name": "Python 3 (ipykernel)",
   "language": "python",
   "name": "python3"
  },
  "language_info": {
   "codemirror_mode": {
    "name": "ipython",
    "version": 3
   },
   "file_extension": ".py",
   "mimetype": "text/x-python",
   "name": "python",
   "nbconvert_exporter": "python",
   "pygments_lexer": "ipython3",
   "version": "3.10.6"
  }
 },
 "nbformat": 4,
 "nbformat_minor": 5
}
