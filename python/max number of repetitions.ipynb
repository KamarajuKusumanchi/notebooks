{
 "cells": [
  {
   "cell_type": "code",
   "execution_count": null,
   "metadata": {},
   "outputs": [],
   "source": [
    "# Code is from https://programmingzen.com/exploring-mathematics-with-matplotlib-and-python/\n",
    "# The idea here is to explore the max number of occurrences\n",
    "# of a number when N numbers are drawn at random.\n",
    "import matplotlib.pyplot as plt\n",
    "import random\n",
    "\n",
    "MAX_NUM = 100\n",
    "\n",
    "x_values = range(1, MAX_NUM + 1)\n",
    "values = [random.randint(1, MAX_NUM) for x in x_values]\n",
    "y_values = [values.count(x) for x in x_values]\n",
    "\n",
    "plt.style.use(\"seaborn\")\n",
    "fig, ax = plt.subplots()\n",
    "ax.scatter(x_values, y_values, s=10)\n",
    "\n",
    "ax.set_title(f\"Random Number Occurrences (N = {MAX_NUM})\", fontsize=18)\n",
    "ax.set_xlabel(\"Number\", fontsize=14)\n",
    "ax.set_ylabel(\"Occurrences\", fontsize=14)\n",
    "\n",
    "ax.tick_params(axis=\"both\", which=\"major\", labelsize=14)\n",
    "\n",
    "plt.show()"
   ]
  }
 ],
 "metadata": {
  "kernelspec": {
   "display_name": "Python 3",
   "language": "python",
   "name": "python3"
  },
  "language_info": {
   "codemirror_mode": {
    "name": "ipython",
    "version": 3
   },
   "file_extension": ".py",
   "mimetype": "text/x-python",
   "name": "python",
   "nbconvert_exporter": "python",
   "pygments_lexer": "ipython3",
   "version": "3.6.8"
  }
 },
 "nbformat": 4,
 "nbformat_minor": 2
}
