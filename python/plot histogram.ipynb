{
 "cells": [
  {
   "cell_type": "code",
   "execution_count": 1,
   "metadata": {},
   "outputs": [],
   "source": [
    "# Tell jupyter notebook to render figures in a notebook\n",
    "# (instead of displaying a dump of the figure object)\n",
    "%matplotlib inline"
   ]
  },
  {
   "cell_type": "code",
   "execution_count": 2,
   "metadata": {},
   "outputs": [
    {
     "data": {
      "text/plain": [
       "<BarContainer object of 6 artists>"
      ]
     },
     "execution_count": 2,
     "metadata": {},
     "output_type": "execute_result"
    },
    {
     "data": {
      "image/png": "[encoded data removed]",
      "text/plain": [
       "<Figure size 432x288 with 1 Axes>"
      ]
     },
     "metadata": {},
     "output_type": "display_data"
    }
   ],
   "source": [
    "import numpy as np\n",
    "from matplotlib import pyplot as plt\n",
    "\n",
    "np.random.seed(42)\n",
    "X = np.random.rand(1000)\n",
    "# bins = [0, 0.2, 0.4, 0.6, 0.8, 1.0]\n",
    "# bins = [0, 0.2, 0.6, 0.8, 1.0]\n",
    "bins = [0, 0.1, 0.2, 0.4, 0.6, 0.8, 1.0]\n",
    "bin_count = len(bins) - 1\n",
    "sample_counts = [0] * bin_count\n",
    "for x in X:\n",
    "    for i in range(bin_count):\n",
    "        if (bins[i] <= x) and (x < bins[i+1]):\n",
    "            sample_counts[i] += 1\n",
    "bin_widths = [bins[i+1] - bins[i] for i in range(bin_count)]\n",
    "bin_heights = [count/width for count, width in zip(sample_counts, bin_widths)]\n",
    "plt.bar(bins[:bin_count], width=bin_widths, height=bin_heights, align='edge')"
   ]
  },
  {
   "cell_type": "code",
   "execution_count": 3,
   "metadata": {},
   "outputs": [
    {
     "name": "stdout",
     "output_type": "stream",
     "text": [
      "[0, 0.1, 0.2, 0.4, 0.6, 0.8, 1.0]\n",
      "[0.1, 0.1, 0.2, 0.19999999999999996, 0.20000000000000007, 0.19999999999999996]\n",
      "[1080.0, 1170.0, 980.0, 960.0000000000002, 939.9999999999997, 995.0000000000002]\n"
     ]
    }
   ],
   "source": [
    "print(bins)\n",
    "print(bin_widths)\n",
    "print(bin_heights)"
   ]
  },
  {
   "cell_type": "markdown",
   "metadata": {},
   "source": [
    "Ref:- https://matplotlib.org/3.1.1/api/_as_gen/matplotlib.pyplot.bar.html"
   ]
  }
 ],
 "metadata": {
  "kernelspec": {
   "display_name": "Python 3",
   "language": "python",
   "name": "python3"
  },
  "language_info": {
   "codemirror_mode": {
    "name": "ipython",
    "version": 3
   },
   "file_extension": ".py",
   "mimetype": "text/x-python",
   "name": "python",
   "nbconvert_exporter": "python",
   "pygments_lexer": "ipython3",
   "version": "3.6.5"
  }
 },
 "nbformat": 4,
 "nbformat_minor": 2
}
