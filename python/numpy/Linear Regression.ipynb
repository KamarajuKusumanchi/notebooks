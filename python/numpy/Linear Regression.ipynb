{
 "cells": [
  {
   "cell_type": "code",
   "execution_count": 1,
   "metadata": {},
   "outputs": [
    {
     "data": {
      "text/plain": [
       "(array([1.02631579, 0.52631579]),\n",
       " array([0.65789474]),\n",
       " 2,\n",
       " array([10.03106925,  0.6145321 ]))"
      ]
     },
     "execution_count": 1,
     "metadata": {},
     "output_type": "execute_result"
    }
   ],
   "source": [
    "# using numpy\n",
    "\n",
    "import numpy as np\n",
    "x = np.array([3.0,5.0,8.0])\n",
    "y = np.array([4.0,5.0,9.0])\n",
    "A = np.vstack([x, np.ones(len(x))]).T   # keep numpy happy as it wants a 2-dimensional X parameter\n",
    "np.linalg.lstsq(A, y, rcond=None)"
   ]
  },
  {
   "cell_type": "markdown",
   "metadata": {},
   "source": [
    "numpy returns a tuple whose first parameter is an array containing the slope and intercept. The other elements compute various statistics about the quality of the fit. The second parameter is the RSS (Residual sum of squares). It is 0.658 in the above example."
   ]
  },
  {
   "cell_type": "code",
   "execution_count": 2,
   "metadata": {},
   "outputs": [
    {
     "data": {
      "text/plain": [
       "array([[3., 1.],\n",
       "       [5., 1.],\n",
       "       [8., 1.]])"
      ]
     },
     "execution_count": 2,
     "metadata": {},
     "output_type": "execute_result"
    }
   ],
   "source": [
    "A"
   ]
  }
 ],
 "metadata": {
  "kernelspec": {
   "display_name": "Python 3",
   "language": "python",
   "name": "python3"
  },
  "language_info": {
   "codemirror_mode": {
    "name": "ipython",
    "version": 3
   },
   "file_extension": ".py",
   "mimetype": "text/x-python",
   "name": "python",
   "nbconvert_exporter": "python",
   "pygments_lexer": "ipython3",
   "version": "3.6.9"
  }
 },
 "nbformat": 4,
 "nbformat_minor": 2
}
