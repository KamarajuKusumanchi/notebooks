{
 "cells": [
  {
   "cell_type": "code",
   "execution_count": 1,
   "metadata": {},
   "outputs": [
    {
     "name": "stdout",
     "output_type": "stream",
     "text": [
      "# packages in environment at C:\\ProgramData\\Continuum\\Anaconda:\n",
      "#\n",
      "# Name                    Version                   Build  Channel\n",
      "pandas                    0.23.0           py36h830ac7b_0  \n",
      "\n",
      "# packages in environment at C:\\ProgramData\\Continuum\\Anaconda:\n",
      "#\n",
      "# Name                    Version                   Build  Channel\n",
      "numpy                     1.14.3           py36h9fa60d3_1  \n",
      "numpy-base                1.14.3           py36h555522e_1  \n",
      "numpydoc                  0.8.0                    py36_0  \n",
      "\n"
     ]
    }
   ],
   "source": [
    "import subprocess\n",
    "\n",
    "pkges = ['pandas',\n",
    "         'numpy']\n",
    "\n",
    "for pkg in pkges:\n",
    "    cmd = ['conda',\n",
    "           'list',\n",
    "           '-n',\n",
    "           'base',\n",
    "           pkg]\n",
    "    \n",
    "    result = subprocess.run(cmd,\n",
    "                            stdout=subprocess.PIPE,\n",
    "                            stderr=subprocess.PIPE,\n",
    "                            universal_newlines=True)\n",
    "    print(result.stdout)"
   ]
  }
 ],
 "metadata": {
  "kernelspec": {
   "display_name": "Python 3",
   "language": "python",
   "name": "python3"
  },
  "language_info": {
   "codemirror_mode": {
    "name": "ipython",
    "version": 3
   },
   "file_extension": ".py",
   "mimetype": "text/x-python",
   "name": "python",
   "nbconvert_exporter": "python",
   "pygments_lexer": "ipython3",
   "version": "3.8.3"
  }
 },
 "nbformat": 4,
 "nbformat_minor": 2
}
