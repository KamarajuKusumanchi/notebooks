{
 "cells": [
  {
   "cell_type": "code",
   "execution_count": 1,
   "metadata": {},
   "outputs": [],
   "source": [
    "def is_true(x):\n",
    "    if x:\n",
    "        return True\n",
    "    else:\n",
    "        return False\n",
    "    \n",
    "def is_none(x):\n",
    "    if x is None:\n",
    "        return True\n",
    "    else:\n",
    "        return False\n",
    "    \n",
    "def is_false(x):\n",
    "    if not x:\n",
    "        return True\n",
    "    else:\n",
    "        return False\n",
    "    \n",
    "def is_not_none(x):\n",
    "    if x is not None:\n",
    "        return True\n",
    "    else:\n",
    "        return False"
   ]
  },
  {
   "cell_type": "code",
   "execution_count": 2,
   "metadata": {},
   "outputs": [
    {
     "name": "stdout",
     "output_type": "stream",
     "text": [
      "elem  is_true is_none is_false is_not_none\n",
      "None  False   True    True     False      \n",
      "False False   False   True     True       \n",
      "0     False   False   True     True       \n",
      "''    False   False   True     True       \n",
      "[]    False   False   True     True       \n",
      "True  True    False   False    True       \n",
      "' '   True    False   False    True       \n",
      "1     True    False   False    True       \n",
      "['']  True    False   False    True       \n"
     ]
    }
   ],
   "source": [
    "a = [None, False, 0, '', [], True, ' ', 1, ['']]\n",
    "print('{!s:5}'.format('elem'),\n",
    "      '{!s:7}'.format('is_true'), '{!s:7}'.format('is_none'),\n",
    "      '{!s:8}'.format('is_false'), '{!s:11}'.format('is_not_none'),\n",
    "      )\n",
    "for x in a:\n",
    "    print('{!r:5}'.format(x),\n",
    "          '{!r:7}'.format(is_true(x)), '{!r:7}'.format(is_none(x)),\n",
    "          '{!r:8}'.format(is_false(x)), '{!r:11}'.format(is_not_none(x))\n",
    "         )"
   ]
  }
 ],
 "metadata": {
  "kernelspec": {
   "display_name": "Python 3",
   "language": "python",
   "name": "python3"
  },
  "language_info": {
   "codemirror_mode": {
    "name": "ipython",
    "version": 3
   },
   "file_extension": ".py",
   "mimetype": "text/x-python",
   "name": "python",
   "nbconvert_exporter": "python",
   "pygments_lexer": "ipython3",
   "version": "3.6.5"
  }
 },
 "nbformat": 4,
 "nbformat_minor": 2
}
