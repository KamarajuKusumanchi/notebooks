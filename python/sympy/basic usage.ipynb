{
 "cells": [
  {
   "cell_type": "code",
   "execution_count": 1,
   "metadata": {},
   "outputs": [
    {
     "name": "stdout",
     "output_type": "stream",
     "text": [
      "2*X + 1\n",
      "2*a*b + 2*a*c\n"
     ]
    }
   ],
   "source": [
    "# Basic usage\n",
    "\n",
    "from sympy import Symbol, symbols\n",
    "\n",
    "X = Symbol('X')\n",
    "expression = X + X + 1\n",
    "print(expression)\n",
    "\n",
    "a, b, c = symbols('a, b, c')\n",
    "expression = a*b + b*a + a*c + c*a\n",
    "print(expression)"
   ]
  },
  {
   "cell_type": "code",
   "execution_count": 2,
   "metadata": {},
   "outputs": [
    {
     "name": "stdout",
     "output_type": "stream",
     "text": [
      "(x - y)*(x + y)\n",
      "x**2 - y**2\n"
     ]
    }
   ],
   "source": [
    "# Factorization and expansion\n",
    "import sympy as sp\n",
    "x, y = sp.symbols('x, y')\n",
    "expr = sp.factor(x**2 - y**2)\n",
    "print(expr)\n",
    "\n",
    "expr = sp.expand(expr)\n",
    "print(expr)"
   ]
  },
  {
   "cell_type": "code",
   "execution_count": 3,
   "metadata": {},
   "outputs": [
    {
     "name": "stdout",
     "output_type": "stream",
     "text": [
      "⌠           \n",
      "⎮     ___   \n",
      "⎮    ╱ 1    \n",
      "⎮   ╱  ─  dx\n",
      "⎮ ╲╱   x    \n",
      "⌡           \n"
     ]
    }
   ],
   "source": [
    "# Pretty printing\n",
    "import sympy as sp\n",
    "sp.init_printing() # or init_session(). init_session does much more\n",
    "x = sp.Symbol('x')\n",
    "sp.pprint(sp.Integral(sp.sqrt(1/x), x))"
   ]
  },
  {
   "cell_type": "code",
   "execution_count": 5,
   "metadata": {},
   "outputs": [
    {
     "data": {
      "image/png": "[encoded data removed]",
      "text/latex": [
       "$$9$$"
      ],
      "text/plain": [
       "9"
      ]
     },
     "execution_count": 5,
     "metadata": {},
     "output_type": "execute_result"
    }
   ],
   "source": [
    "# Compute the numeric result of a symbolic expression\n",
    "\n",
    "# from sympy import init_session\n",
    "# init_session()\n",
    "expr = x**2 + 2*x*y + y**2\n",
    "expr.subs({x:1, y:2})"
   ]
  },
  {
   "cell_type": "code",
   "execution_count": 6,
   "metadata": {},
   "outputs": [
    {
     "data": {
      "image/png": "[encoded data removed]",
      "text/latex": [
       "$$y^{2} + 2 y \\left(y - 1\\right) + \\left(y - 1\\right)^{2}$$"
      ],
      "text/plain": [
       " 2                        2\n",
       "y  + 2⋅y⋅(y - 1) + (y - 1) "
      ]
     },
     "execution_count": 6,
     "metadata": {},
     "output_type": "execute_result"
    }
   ],
   "source": [
    "# we can also variables in expression substitution\n",
    "expr.subs({x:y-1})"
   ]
  },
  {
   "cell_type": "code",
   "execution_count": 8,
   "metadata": {},
   "outputs": [
    {
     "data": {
      "image/png": "[encoded data removed]",
      "text/latex": [
       "$$4 y^{2} - 4 y + 1$$"
      ],
      "text/plain": [
       "   2          \n",
       "4⋅y  - 4⋅y + 1"
      ]
     },
     "execution_count": 8,
     "metadata": {},
     "output_type": "execute_result"
    }
   ],
   "source": [
    "sp.simplify(expr.subs({x:y-1}))"
   ]
  },
  {
   "cell_type": "code",
   "execution_count": 16,
   "metadata": {},
   "outputs": [
    {
     "name": "stdout",
     "output_type": "stream",
     "text": [
      "Input first expressionx*2 + y\n",
      "Input second expressionx*3 + y\n",
      "6*x**2 + 5*x*y + y**2\n"
     ]
    }
   ],
   "source": [
    "# Read expressions from user input\n",
    "\n",
    "# from sympy import init_session\n",
    "# init_session()\n",
    "from sympy import simplify, expand\n",
    "\n",
    "expr1 = input(\"Input first expression\")\n",
    "expr2 = input(\"Input second expression\")\n",
    "\n",
    "try:\n",
    "    expr1 = simplify(expr1)\n",
    "    expr2 = simplify(expr2)\n",
    "    \n",
    "    print(expand(expr1 * expr2))\n",
    "    \n",
    "except SympifyError:\n",
    "    print(\"Invalid input\")"
   ]
  }
 ],
 "metadata": {
  "kernelspec": {
   "display_name": "Python 3",
   "language": "python",
   "name": "python3"
  },
  "language_info": {
   "codemirror_mode": {
    "name": "ipython",
    "version": 3
   },
   "file_extension": ".py",
   "mimetype": "text/x-python",
   "name": "python",
   "nbconvert_exporter": "python",
   "pygments_lexer": "ipython3",
   "version": "3.6.5"
  }
 },
 "nbformat": 4,
 "nbformat_minor": 2
}
