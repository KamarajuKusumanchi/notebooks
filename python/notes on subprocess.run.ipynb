{
 "cells": [
  {
   "cell_type": "code",
   "execution_count": 1,
   "metadata": {},
   "outputs": [
    {
     "name": "stdout",
     "output_type": "stream",
     "text": [
      "CompletedProcess(args=['ls', '-l', '/dev/null', '/blah/blah'], returncode=2, stdout='crw-rw-rw- 1 kkusuman 1049089 1, 3 Oct  2 13:13 /dev/null\\n', stderr=\"ls: cannot access '/blah/blah': No such file or directory\\n\")\n",
      "\n",
      "\n",
      "crw-rw-rw- 1 kkusuman 1049089 1, 3 Oct  2 13:13 /dev/null\n",
      "\n",
      "ls: cannot access '/blah/blah': No such file or directory\n",
      "\n"
     ]
    }
   ],
   "source": [
    "# Summary\n",
    "# final code snippet\n",
    "\n",
    "import subprocess\n",
    "\n",
    "cmd = ['ls',\n",
    "       '-l',\n",
    "       '/dev/null',\n",
    "       '/blah/blah']\n",
    "result = subprocess.run(cmd,\n",
    "                        stdout=subprocess.PIPE,\n",
    "                        stderr=subprocess.PIPE,\n",
    "                        universal_newlines=True)\n",
    "\n",
    "print(result); print('\\n')\n",
    "print(result.stdout)\n",
    "print(result.stderr)"
   ]
  },
  {
   "cell_type": "code",
   "execution_count": 2,
   "metadata": {},
   "outputs": [
    {
     "name": "stdout",
     "output_type": "stream",
     "text": [
      "CompletedProcess(args=['ls', '-l', '/dev/null'], returncode=0)\n"
     ]
    }
   ],
   "source": [
    "# subprocess.run() returns a CompletedProcess instance.\n",
    "# Ref:- https://docs.python.org/3/library/subprocess.html\n",
    "\n",
    "result = subprocess.run(['ls', '-l', '/dev/null'])\n",
    "print(result)"
   ]
  },
  {
   "cell_type": "code",
   "execution_count": 3,
   "metadata": {},
   "outputs": [
    {
     "name": "stdout",
     "output_type": "stream",
     "text": [
      "CompletedProcess(args=['ls', '-l', '/blah/blah'], returncode=2)\n",
      "command failed with returncode 2\n"
     ]
    }
   ],
   "source": [
    "# By default, we only get returncode. Access it as a member variable\n",
    "\n",
    "result = subprocess.run(['ls', '-l', '/blah/blah'])\n",
    "print(result)\n",
    "if result.returncode != 0:\n",
    "    print('command failed with returncode', result.returncode)"
   ]
  },
  {
   "cell_type": "code",
   "execution_count": 4,
   "metadata": {},
   "outputs": [
    {
     "name": "stdout",
     "output_type": "stream",
     "text": [
      "CompletedProcess(args=['ls', '-l', '/dev/null', '/blah/blah'], returncode=2, stdout=b'crw-rw-rw- 1 kkusuman 1049089 1, 3 Oct  2 13:13 /dev/null\\n', stderr=b\"ls: cannot access '/blah/blah': No such file or directory\\n\")\n",
      "\n",
      "\n",
      "b'crw-rw-rw- 1 kkusuman 1049089 1, 3 Oct  2 13:13 /dev/null\\n'\n",
      "\n",
      "\n",
      "b\"ls: cannot access '/blah/blah': No such file or directory\\n\"\n"
     ]
    }
   ],
   "source": [
    "# To get standard output and standard error\n",
    "\n",
    "result = subprocess.run(['ls', '-l', '/dev/null', '/blah/blah'],\n",
    "                        stdout=subprocess.PIPE,\n",
    "                        stderr=subprocess.PIPE)\n",
    "\n",
    "print(result); print('\\n')\n",
    "print(result.stdout); print('\\n')\n",
    "print(result.stderr)"
   ]
  },
  {
   "cell_type": "code",
   "execution_count": 5,
   "metadata": {},
   "outputs": [
    {
     "name": "stdout",
     "output_type": "stream",
     "text": [
      "CompletedProcess(args=['ls', '-l', '/dev/null', '/blah/blah'], returncode=2, stdout='crw-rw-rw- 1 kkusuman 1049089 1, 3 Oct  2 13:13 /dev/null\\n', stderr=\"ls: cannot access '/blah/blah': No such file or directory\\n\")\n",
      "\n",
      "\n",
      "crw-rw-rw- 1 kkusuman 1049089 1, 3 Oct  2 13:13 /dev/null\n",
      "\n",
      "ls: cannot access '/blah/blah': No such file or directory\n",
      "\n"
     ]
    }
   ],
   "source": [
    "# The b'' in standard output and standard error indicate that it is\n",
    "# a binary sequence of bytes rather than a string of Unicode characters.\n",
    "# Subprocesses output bytes, not characters, so that's what is returned.\n",
    "# Use universal_newlines=True to get it in plain text\n",
    "\n",
    "result = subprocess.run(['ls', '-l', '/dev/null', '/blah/blah'],\n",
    "                        stdout=subprocess.PIPE,\n",
    "                        stderr=subprocess.PIPE,\n",
    "                        universal_newlines=True)\n",
    "\n",
    "print(result); print('\\n')\n",
    "print(result.stdout)\n",
    "print(result.stderr)"
   ]
  },
  {
   "cell_type": "code",
   "execution_count": 6,
   "metadata": {},
   "outputs": [
    {
     "name": "stdout",
     "output_type": "stream",
     "text": [
      "CompletedProcess(args=['ls', '-l', '/dev/null', '/blah/blah'], returncode=2, stdout='crw-rw-rw- 1 kkusuman 1049089 1, 3 Oct  2 13:13 /dev/null\\n', stderr=\"ls: cannot access '/blah/blah': No such file or directory\\n\")\n",
      "\n",
      "\n",
      "crw-rw-rw- 1 kkusuman 1049089 1, 3 Oct  2 13:13 /dev/null\n",
      "\n",
      "ls: cannot access '/blah/blah': No such file or directory\n",
      "\n"
     ]
    }
   ],
   "source": [
    "# Pretty print the command\n",
    "\n",
    "cmd = ['ls',\n",
    "       '-l',\n",
    "       '/dev/null',\n",
    "       '/blah/blah']\n",
    "result = subprocess.run(cmd,\n",
    "                        stdout=subprocess.PIPE,\n",
    "                        stderr=subprocess.PIPE,\n",
    "                        universal_newlines=True)\n",
    "\n",
    "print(result); print('\\n')\n",
    "print(result.stdout)\n",
    "print(result.stderr)"
   ]
  },
  {
   "cell_type": "code",
   "execution_count": 7,
   "metadata": {},
   "outputs": [
    {
     "data": {
      "text/plain": [
       "'3.6.5 |Anaconda, Inc.| (default, Mar 29 2018, 13:32:41) [MSC v.1900 64 bit (AMD64)]'"
      ]
     },
     "execution_count": 7,
     "metadata": {},
     "output_type": "execute_result"
    }
   ],
   "source": [
    "import sys\n",
    "sys.version"
   ]
  }
 ],
 "metadata": {
  "kernelspec": {
   "display_name": "Python 3",
   "language": "python",
   "name": "python3"
  },
  "language_info": {
   "codemirror_mode": {
    "name": "ipython",
    "version": 3
   },
   "file_extension": ".py",
   "mimetype": "text/x-python",
   "name": "python",
   "nbconvert_exporter": "python",
   "pygments_lexer": "ipython3",
   "version": "3.6.5"
  }
 },
 "nbformat": 4,
 "nbformat_minor": 2
}
