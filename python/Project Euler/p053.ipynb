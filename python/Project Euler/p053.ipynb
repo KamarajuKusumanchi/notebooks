{
 "cells": [
  {
   "cell_type": "code",
   "execution_count": 1,
   "metadata": {},
   "outputs": [
    {
     "name": "stdout",
     "output_type": "stream",
     "text": [
      "None\n"
     ]
    }
   ],
   "source": [
    "# Description of problem is at https://projecteuler.net/problem=53\n",
    "\n",
    "from scipy.special import comb\n",
    "\n",
    "def get_count():\n",
    "    count = 0\n",
    "    for n in range(1,101):\n",
    "        for r in range(0, n+1):\n",
    "            f = comb(n,r)\n",
    "            if f > 1e6:\n",
    "                count = count+1\n",
    "\n",
    "count = get_count()\n",
    "print(count)"
   ]
  },
  {
   "cell_type": "markdown",
   "metadata": {},
   "source": [
    "Alternative solution:\n",
    "* https://github.com/nayuki/Project-Euler-solutions/blob/master/python/p053.py"
   ]
  }
 ],
 "metadata": {
  "kernelspec": {
   "display_name": "Python 3",
   "language": "python",
   "name": "python3"
  },
  "language_info": {
   "codemirror_mode": {
    "name": "ipython",
    "version": 3
   },
   "file_extension": ".py",
   "mimetype": "text/x-python",
   "name": "python",
   "nbconvert_exporter": "python",
   "pygments_lexer": "ipython3",
   "version": "3.6.8"
  }
 },
 "nbformat": 4,
 "nbformat_minor": 2
}
