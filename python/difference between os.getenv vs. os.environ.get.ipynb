{
 "cells": [
  {
   "cell_type": "markdown",
   "id": "42732fc8-8a1e-4546-ba25-265a89101eed",
   "metadata": {},
   "source": [
    "What is the difference between os.getenv vs os.environ.get?\n",
    "\n",
    "None. I prefer to use os.getenv as it is less number of characters to type.\n",
    "\n",
    "See also: https://stackoverflow.com/questions/16924471/difference-between-os-getenv-and-os-environ-get"
   ]
  },
  {
   "cell_type": "markdown",
   "id": "47b2723e-6bba-40b7-9a0b-a13938ee87b8",
   "metadata": {},
   "source": [
    "Details:\n",
    "There are basically three approaches to get the value of an environment variable.\n",
    "\n",
    "1) os.getenv()\n",
    "2) os.environ.get()\n",
    "3) os.environ[]\n",
    "\n",
    "There is no difference between the first two.\n",
    "\n",
    "If the variable exists, all three give the same answer.\n",
    "\n",
    "If it does not exist, the first two return None and the last throws a KeyError exception.\n",
    "\n",
    "You can specify a fallback value with the first two approaches.\n",
    "\n",
    "| case | os.getenv() | os.environ.get() | os.environ[] |\n",
    "| --- | --- | --- | --- |\n",
    "| if the variable exists | return its value | return its value | return its value |\n",
    "| if the variable does not exist | return None |  return None | throw a KeyError exception |\n",
    "| Specify a fallback value | Yes | Yes | N/A |"
   ]
  },
  {
   "cell_type": "code",
   "execution_count": 1,
   "id": "1bc50855-ac90-4ff8-b291-fa9d184ce026",
   "metadata": {},
   "outputs": [],
   "source": [
    "import os"
   ]
  },
  {
   "cell_type": "code",
   "execution_count": 2,
   "id": "705d8b63-bbaf-4184-8f42-13877f3d4db8",
   "metadata": {},
   "outputs": [
    {
     "data": {
      "text/plain": [
       "'xterm-color'"
      ]
     },
     "execution_count": 2,
     "metadata": {},
     "output_type": "execute_result"
    }
   ],
   "source": [
    "os.getenv('TERM')"
   ]
  },
  {
   "cell_type": "code",
   "execution_count": 3,
   "id": "51a4ac70-bd1a-4548-a049-9b2945b6691b",
   "metadata": {},
   "outputs": [
    {
     "data": {
      "text/plain": [
       "'xterm-color'"
      ]
     },
     "execution_count": 3,
     "metadata": {},
     "output_type": "execute_result"
    }
   ],
   "source": [
    "os.environ.get('TERM')"
   ]
  },
  {
   "cell_type": "code",
   "execution_count": 4,
   "id": "c065efd0-18a1-4534-adb3-797b3f2bdf04",
   "metadata": {},
   "outputs": [
    {
     "data": {
      "text/plain": [
       "'xterm-color'"
      ]
     },
     "execution_count": 4,
     "metadata": {},
     "output_type": "execute_result"
    }
   ],
   "source": [
    "os.environ['TERM']"
   ]
  },
  {
   "cell_type": "code",
   "execution_count": 5,
   "id": "998ff9f5-e186-465e-89a2-2665206dcbeb",
   "metadata": {},
   "outputs": [
    {
     "data": {
      "text/plain": [
       "True"
      ]
     },
     "execution_count": 5,
     "metadata": {},
     "output_type": "execute_result"
    }
   ],
   "source": [
    "os.getenv('FOOBAR') is None"
   ]
  },
  {
   "cell_type": "code",
   "execution_count": 6,
   "id": "35dfc776-7522-4093-a87c-86114ef86627",
   "metadata": {},
   "outputs": [
    {
     "data": {
      "text/plain": [
       "True"
      ]
     },
     "execution_count": 6,
     "metadata": {},
     "output_type": "execute_result"
    }
   ],
   "source": [
    "os.environ.get('FOOBAR') is None"
   ]
  },
  {
   "cell_type": "code",
   "execution_count": 7,
   "id": "40fe6a9b-aac6-4875-aceb-eac1083f4fe6",
   "metadata": {},
   "outputs": [
    {
     "ename": "KeyError",
     "evalue": "'FOOBAR'",
     "output_type": "error",
     "traceback": [
      "\u001b[0;31m---------------------------------------------------------------------------\u001b[0m",
      "\u001b[0;31mKeyError\u001b[0m                                  Traceback (most recent call last)",
      "Cell \u001b[0;32mIn[7], line 1\u001b[0m\n\u001b[0;32m----> 1\u001b[0m os\u001b[38;5;241m.\u001b[39menviron[\u001b[38;5;124m'\u001b[39m\u001b[38;5;124mFOOBAR\u001b[39m\u001b[38;5;124m'\u001b[39m]\n",
      "File \u001b[0;32m<frozen os>:679\u001b[0m, in \u001b[0;36m__getitem__\u001b[0;34m(self, key)\u001b[0m\n",
      "\u001b[0;31mKeyError\u001b[0m: 'FOOBAR'"
     ]
    }
   ],
   "source": [
    "os.environ['FOOBAR']"
   ]
  },
  {
   "cell_type": "markdown",
   "id": "b872b196-98cb-48c3-adbd-23eeea2a8bf9",
   "metadata": {},
   "source": [
    "You can specify a fallback, value to be returned if the variable does not exist, as follows"
   ]
  },
  {
   "cell_type": "code",
   "execution_count": 8,
   "id": "8a45b582-ad3a-4688-b099-10479bcf5a54",
   "metadata": {},
   "outputs": [
    {
     "data": {
      "text/plain": [
       "True"
      ]
     },
     "execution_count": 8,
     "metadata": {},
     "output_type": "execute_result"
    }
   ],
   "source": [
    "os.getenv('FOOBAR', \"not found\") == \"not found\""
   ]
  },
  {
   "cell_type": "code",
   "execution_count": 9,
   "id": "bdc07e3a-cd67-4d94-ab59-1d9e1aaeba1b",
   "metadata": {},
   "outputs": [
    {
     "data": {
      "text/plain": [
       "True"
      ]
     },
     "execution_count": 9,
     "metadata": {},
     "output_type": "execute_result"
    }
   ],
   "source": [
    "os.environ.get('FOOBAR', \"not found\") == \"not found\""
   ]
  },
  {
   "cell_type": "markdown",
   "id": "929e8550-653d-43b7-af73-77ef8bfd8d4f",
   "metadata": {},
   "source": [
    "Verify that the fallback does not have any impact if the variable exists."
   ]
  },
  {
   "cell_type": "code",
   "execution_count": 10,
   "id": "c9ad7aa3-f981-4403-a660-0bdba530f179",
   "metadata": {},
   "outputs": [
    {
     "data": {
      "text/plain": [
       "'xterm-color'"
      ]
     },
     "execution_count": 10,
     "metadata": {},
     "output_type": "execute_result"
    }
   ],
   "source": [
    "os.getenv('TERM', \"not found\")"
   ]
  },
  {
   "cell_type": "code",
   "execution_count": 11,
   "id": "10582d50-482f-44e8-82cc-705cafd5dc8d",
   "metadata": {},
   "outputs": [
    {
     "data": {
      "text/plain": [
       "'xterm-color'"
      ]
     },
     "execution_count": 11,
     "metadata": {},
     "output_type": "execute_result"
    }
   ],
   "source": [
    "os.environ.get('TERM', \"not found\")"
   ]
  },
  {
   "cell_type": "code",
   "execution_count": null,
   "id": "b29248c4-a2eb-4713-bfcc-5ea13fd7f432",
   "metadata": {},
   "outputs": [],
   "source": []
  }
 ],
 "metadata": {
  "kernelspec": {
   "display_name": "Python 3 (ipykernel)",
   "language": "python",
   "name": "python3"
  },
  "language_info": {
   "codemirror_mode": {
    "name": "ipython",
    "version": 3
   },
   "file_extension": ".py",
   "mimetype": "text/x-python",
   "name": "python",
   "nbconvert_exporter": "python",
   "pygments_lexer": "ipython3",
   "version": "3.11.3"
  }
 },
 "nbformat": 4,
 "nbformat_minor": 5
}
